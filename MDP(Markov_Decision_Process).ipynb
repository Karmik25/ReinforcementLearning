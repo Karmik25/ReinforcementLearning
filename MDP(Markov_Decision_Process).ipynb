{
  "nbformat": 4,
  "nbformat_minor": 0,
  "metadata": {
    "colab": {
      "provenance": []
    },
    "kernelspec": {
      "name": "python3",
      "display_name": "Python 3"
    },
    "language_info": {
      "name": "python"
    }
  },
  "cells": [
    {
      "cell_type": "code",
      "execution_count": 1,
      "metadata": {
        "colab": {
          "base_uri": "https://localhost:8080/"
        },
        "id": "mLKvARZurELI",
        "outputId": "396f2d5f-82b7-4c9c-8cf0-ff6ed18d181f"
      },
      "outputs": [
        {
          "output_type": "stream",
          "name": "stdout",
          "text": [
            "\u001b[?25l     \u001b[90m━━━━━━━━━━━━━━━━━━━━━━━━━━━━━━━━━━━━━━━━\u001b[0m \u001b[32m0.0/624.4 kB\u001b[0m \u001b[31m?\u001b[0m eta \u001b[36m-:--:--\u001b[0m\r\u001b[2K     \u001b[91m━━━━━━\u001b[0m\u001b[91m╸\u001b[0m\u001b[90m━━━━━━━━━━━━━━━━━━━━━━━━━━━━━━━━━\u001b[0m \u001b[32m102.4/624.4 kB\u001b[0m \u001b[31m2.8 MB/s\u001b[0m eta \u001b[36m0:00:01\u001b[0m\r\u001b[2K     \u001b[91m━━━━━━━━━━━━━━━━━━━━━\u001b[0m\u001b[91m╸\u001b[0m\u001b[90m━━━━━━━━━━━━━━━━━━\u001b[0m \u001b[32m337.9/624.4 kB\u001b[0m \u001b[31m4.6 MB/s\u001b[0m eta \u001b[36m0:00:01\u001b[0m\r\u001b[2K     \u001b[90m━━━━━━━━━━━━━━━━━━━━━━━━━━━━━━━━━━━━━━━━\u001b[0m \u001b[32m624.4/624.4 kB\u001b[0m \u001b[31m5.3 MB/s\u001b[0m eta \u001b[36m0:00:00\u001b[0m\n",
            "\u001b[?25h  Installing build dependencies ... \u001b[?25l\u001b[?25hdone\n",
            "  Getting requirements to build wheel ... \u001b[?25l\u001b[?25hdone\n",
            "  Preparing metadata (pyproject.toml) ... \u001b[?25l\u001b[?25hdone\n",
            "  Building wheel for gym (pyproject.toml) ... \u001b[?25l\u001b[?25hdone\n"
          ]
        }
      ],
      "source": [
        "# @title Setup code (not important) - Run this cell by pressing \"Shift + Enter\"\n",
        "\n",
        "\n",
        "\n",
        "!pip install -qq gym==0.23.0\n",
        "\n",
        "\n",
        "from typing import Tuple, Dict, Optional, Iterable\n",
        "\n",
        "import numpy as np\n",
        "import matplotlib\n",
        "from matplotlib import animation\n",
        "\n",
        "from IPython.display import HTML\n",
        "\n",
        "import gym\n",
        "from gym import spaces\n",
        "from gym.error import DependencyNotInstalled\n",
        "\n",
        "import pygame\n",
        "from pygame import gfxdraw\n",
        "\n",
        "\n",
        "class Maze(gym.Env):\n",
        "\n",
        "    def __init__(self, exploring_starts: bool = False,\n",
        "                 shaped_rewards: bool = False, size: int = 5) -> None:\n",
        "        super().__init__()\n",
        "        self.exploring_starts = exploring_starts\n",
        "        self.shaped_rewards = shaped_rewards\n",
        "        self.state = (size - 1, size - 1)\n",
        "        self.goal = (size - 1, size - 1)\n",
        "        self.maze = self._create_maze(size=size)\n",
        "        self.distances = self._compute_distances(self.goal, self.maze)\n",
        "        self.action_space = spaces.Discrete(n=4)\n",
        "        self.action_space.action_meanings = {0: 'UP', 1: 'RIGHT', 2: 'DOWN', 3: \"LEFT\"}\n",
        "        self.observation_space = spaces.MultiDiscrete([size, size])\n",
        "\n",
        "        self.screen = None\n",
        "        self.agent_transform = None\n",
        "\n",
        "    def step(self, action: int) -> Tuple[Tuple[int, int], float, bool, Dict]:\n",
        "        reward = self.compute_reward(self.state, action)\n",
        "        self.state = self._get_next_state(self.state, action)\n",
        "        done = self.state == self.goal\n",
        "        info = {}\n",
        "        return self.state, reward, done, info\n",
        "\n",
        "    def reset(self) -> Tuple[int, int]:\n",
        "        if self.exploring_starts:\n",
        "            while self.state == self.goal:\n",
        "                self.state = tuple(self.observation_space.sample())\n",
        "        else:\n",
        "            self.state = (0, 0)\n",
        "        return self.state\n",
        "\n",
        "    def render(self, mode: str = 'human') -> Optional[np.ndarray]:\n",
        "        assert mode in ['human', 'rgb_array']\n",
        "\n",
        "        screen_size = 600\n",
        "        scale = screen_size / 5\n",
        "\n",
        "        if self.screen is None:\n",
        "            pygame.init()\n",
        "            self.screen = pygame.Surface((screen_size, screen_size))\n",
        "\n",
        "        surf = pygame.Surface((screen_size, screen_size))\n",
        "        surf.fill((22, 36, 71))\n",
        "\n",
        "\n",
        "        for row in range(5):\n",
        "            for col in range(5):\n",
        "\n",
        "                state = (row, col)\n",
        "                for next_state in [(row + 1, col), (row - 1, col), (row, col + 1), (row, col - 1)]:\n",
        "                    if next_state not in self.maze[state]:\n",
        "\n",
        "                        # Add the geometry of the edges and walls (i.e. the boundaries between\n",
        "                        # adjacent squares that are not connected).\n",
        "                        row_diff, col_diff = np.subtract(next_state, state)\n",
        "                        left = (col + (col_diff > 0)) * scale - 2 * (col_diff != 0)\n",
        "                        right = ((col + 1) - (col_diff < 0)) * scale + 2 * (col_diff != 0)\n",
        "                        top = (5 - (row + (row_diff > 0))) * scale - 2 * (row_diff != 0)\n",
        "                        bottom = (5 - ((row + 1) - (row_diff < 0))) * scale + 2 * (row_diff != 0)\n",
        "\n",
        "                        gfxdraw.filled_polygon(surf, [(left, bottom), (left, top), (right, top), (right, bottom)], (255, 255, 255))\n",
        "\n",
        "        # Add the geometry of the goal square to the viewer.\n",
        "        left, right, top, bottom = scale * 4 + 10, scale * 5 - 10, scale - 10, 10\n",
        "        gfxdraw.filled_polygon(surf, [(left, bottom), (left, top), (right, top), (right, bottom)], (40, 199, 172))\n",
        "\n",
        "        # Add the geometry of the agent to the viewer.\n",
        "        agent_row = int(screen_size - scale * (self.state[0] + .5))\n",
        "        agent_col = int(scale * (self.state[1] + .5))\n",
        "        gfxdraw.filled_circle(surf, agent_col, agent_row, int(scale * .6 / 2), (228, 63, 90))\n",
        "\n",
        "        surf = pygame.transform.flip(surf, False, True)\n",
        "        self.screen.blit(surf, (0, 0))\n",
        "\n",
        "        return np.transpose(\n",
        "                np.array(pygame.surfarray.pixels3d(self.screen)), axes=(1, 0, 2)\n",
        "            )\n",
        "\n",
        "    def close(self) -> None:\n",
        "        if self.screen is not None:\n",
        "            pygame.display.quit()\n",
        "            pygame.quit()\n",
        "            self.screen = None\n",
        "\n",
        "    def compute_reward(self, state: Tuple[int, int], action: int) -> float:\n",
        "        next_state = self._get_next_state(state, action)\n",
        "        if self.shaped_rewards:\n",
        "            return - (self.distances[next_state] / self.distances.max())\n",
        "        return - float(state != self.goal)\n",
        "\n",
        "    def simulate_step(self, state: Tuple[int, int], action: int):\n",
        "        reward = self.compute_reward(state, action)\n",
        "        next_state = self._get_next_state(state, action)\n",
        "        done = next_state == self.goal\n",
        "        info = {}\n",
        "        return next_state, reward, done, info\n",
        "\n",
        "    def _get_next_state(self, state: Tuple[int, int], action: int) -> Tuple[int, int]:\n",
        "        if action == 0:\n",
        "            next_state = (state[0] - 1, state[1])\n",
        "        elif action == 1:\n",
        "            next_state = (state[0], state[1] + 1)\n",
        "        elif action == 2:\n",
        "            next_state = (state[0] + 1, state[1])\n",
        "        elif action == 3:\n",
        "            next_state = (state[0], state[1] - 1)\n",
        "        else:\n",
        "            raise ValueError(\"Action value not supported:\", action)\n",
        "        if next_state in self.maze[state]:\n",
        "            return next_state\n",
        "        return state\n",
        "\n",
        "    @staticmethod\n",
        "    def _create_maze(size: int) -> Dict[Tuple[int, int], Iterable[Tuple[int, int]]]:\n",
        "        maze = {(row, col): [(row - 1, col), (row + 1, col), (row, col - 1), (row, col + 1)]\n",
        "                for row in range(size) for col in range(size)}\n",
        "\n",
        "        left_edges = [[(row, 0), (row, -1)] for row in range(size)]\n",
        "        right_edges = [[(row, size - 1), (row, size)] for row in range(size)]\n",
        "        upper_edges = [[(0, col), (-1, col)] for col in range(size)]\n",
        "        lower_edges = [[(size - 1, col), (size, col)] for col in range(size)]\n",
        "        walls = [\n",
        "            [(1, 0), (1, 1)], [(2, 0), (2, 1)], [(3, 0), (3, 1)],\n",
        "            [(1, 1), (1, 2)], [(2, 1), (2, 2)], [(3, 1), (3, 2)],\n",
        "            [(3, 1), (4, 1)], [(0, 2), (1, 2)], [(1, 2), (1, 3)],\n",
        "            [(2, 2), (3, 2)], [(2, 3), (3, 3)], [(2, 4), (3, 4)],\n",
        "            [(4, 2), (4, 3)], [(1, 3), (1, 4)], [(2, 3), (2, 4)],\n",
        "        ]\n",
        "\n",
        "        obstacles = upper_edges + lower_edges + left_edges + right_edges + walls\n",
        "\n",
        "        for src, dst in obstacles:\n",
        "            maze[src].remove(dst)\n",
        "\n",
        "            if dst in maze:\n",
        "                maze[dst].remove(src)\n",
        "\n",
        "        return maze\n",
        "\n",
        "    @staticmethod\n",
        "    def _compute_distances(goal: Tuple[int, int],\n",
        "                           maze: Dict[Tuple[int, int], Iterable[Tuple[int, int]]]) -> np.ndarray:\n",
        "        distances = np.full((5, 5), np.inf)\n",
        "        visited = set()\n",
        "        distances[goal] = 0.\n",
        "\n",
        "        while visited != set(maze):\n",
        "            sorted_dst = [(v // 5, v % 5) for v in distances.argsort(axis=None)]\n",
        "            closest = next(x for x in sorted_dst if x not in visited)\n",
        "            visited.add(closest)\n",
        "\n",
        "            for neighbour in maze[closest]:\n",
        "                distances[neighbour] = min(distances[neighbour], distances[closest] + 1)\n",
        "        return distances\n",
        "\n",
        "\n",
        "def display_video(frames):\n",
        "    # Copied from: https://colab.research.google.com/github/deepmind/dm_control/blob/master/tutorial.ipynb\n",
        "    orig_backend = matplotlib.get_backend()\n",
        "    matplotlib.use('Agg')\n",
        "    fig, ax = plt.subplots(1, 1, figsize=(5, 5))\n",
        "    matplotlib.use(orig_backend)\n",
        "    ax.set_axis_off()\n",
        "    ax.set_aspect('equal')\n",
        "    ax.set_position([0, 0, 1, 1])\n",
        "    im = ax.imshow(frames[0])\n",
        "    def update(frame):\n",
        "        im.set_data(frame)\n",
        "        return [im]\n",
        "    anim = animation.FuncAnimation(fig=fig, func=update, frames=frames,\n",
        "                                    interval=50, blit=True, repeat=False)\n",
        "    return HTML(anim.to_html5_video())\n"
      ]
    },
    {
      "cell_type": "markdown",
      "source": [
        "## Quick view of the Gym library:\n",
        "<br/>\n",
        "<br/>\n",
        "\n",
        "Gym is a library for reinforcement learning research. It provides us with a simple interface to a large number of tasks, including\n",
        "\n",
        "- Classic control tasks (CartPole, Pendulum, MountainCar, etc)\n",
        "- Classic video games (Space Invaders, Breakout, Pong, etc)\n",
        "- Continuous control tasks\n",
        "- Robotic arm manipulation\n",
        "\n",
        "In this section we are going to get familiar with the five methods that we'll use while solving a control\n",
        "task.\n",
        "\n",
        "\n",
        "<br/>\n",
        "<br/>"
      ],
      "metadata": {
        "id": "o8Qvc34mrXdq"
      }
    },
    {
      "cell_type": "markdown",
      "source": [
        "##### Making the environment: Maze()\n",
        "\n",
        "To create an environment, just pass a string with its name to the gym.make method. If the environment exists, the method returns an instance of the gym.Env class, which represents the environment of the task we are going to solve."
      ],
      "metadata": {
        "id": "wBOeASVlrdFh"
      }
    },
    {
      "cell_type": "code",
      "source": [
        "import gym\n",
        "import numpy as np\n",
        "from IPython import display\n",
        "from matplotlib import pyplot as plt\n",
        "%matplotlib inline"
      ],
      "metadata": {
        "id": "aYxMGzoerngU"
      },
      "execution_count": 2,
      "outputs": []
    },
    {
      "cell_type": "markdown",
      "source": [
        "##### Making the environment: Maze()\n",
        "\n",
        "To create an environment, just pass a string with its name to the gym.make method. If the environment exists, the method returns an instance of the gym.Env class, which represents the environment of the task we are going to solve."
      ],
      "metadata": {
        "id": "gs-B0hF8y0Ih"
      }
    },
    {
      "cell_type": "code",
      "source": [
        "env = Maze()"
      ],
      "metadata": {
        "id": "zqmU8EqTyLxC"
      },
      "execution_count": 3,
      "outputs": []
    },
    {
      "cell_type": "markdown",
      "source": [
        "### `env.reset()`\n",
        "\n",
        "This method places the environment in its initials state. Which prepares the task so tht the agent can interact with it during an episode\n"
      ],
      "metadata": {
        "id": "vQTfgdqTzIwy"
      }
    },
    {
      "cell_type": "code",
      "source": [
        "initial_state = env.reset()\n",
        "print(f\"The new episode will start in state: {initial_state}\")"
      ],
      "metadata": {
        "colab": {
          "base_uri": "https://localhost:8080/"
        },
        "id": "ylPkdStOynhG",
        "outputId": "8c2fa451-9766-4d94-bce3-a3989616673c"
      },
      "execution_count": 4,
      "outputs": [
        {
          "output_type": "stream",
          "name": "stdout",
          "text": [
            "The new episode will start in state: (0, 0)\n"
          ]
        }
      ]
    },
    {
      "cell_type": "markdown",
      "source": [
        "### `env.render()`\n",
        "This method generate an image tht represents the current state of the environment, in the form np.ndarray"
      ],
      "metadata": {
        "id": "aP-oo-S-zkuW"
      }
    },
    {
      "cell_type": "code",
      "source": [
        "frame = env.render(mode = 'rgb_array')\n",
        "plt.axis('off')\n",
        "plt.title(f\"State : {initial_state}\")\n",
        "plt.imshow(frame)"
      ],
      "metadata": {
        "colab": {
          "base_uri": "https://localhost:8080/",
          "height": 445
        },
        "id": "vcl6-W9g0P1g",
        "outputId": "f7c669ed-a147-47a2-d1f0-4aae50847a8e"
      },
      "execution_count": 5,
      "outputs": [
        {
          "output_type": "execute_result",
          "data": {
            "text/plain": [
              "<matplotlib.image.AxesImage at 0x7b2000439750>"
            ]
          },
          "metadata": {},
          "execution_count": 5
        },
        {
          "output_type": "display_data",
          "data": {
            "text/plain": [
              "<Figure size 640x480 with 1 Axes>"
            ],
            "image/png": "[encoded data removed]"
          },
          "metadata": {}
        }
      ]
    },
    {
      "cell_type": "markdown",
      "source": [
        "### `env.step()`\n",
        "\n",
        "This method applies the action selected by the agent in the environment, to modify it. In response, the environment returns a tuple of four objects:\n",
        "\n",
        "\n",
        "- The next state\n",
        "- The reward obtained\n",
        "- (bool) if the task has been completed\n",
        "- any other relevant information in a python dictionary\n",
        "\n",
        "\n",
        "\n",
        "### Actions\n",
        "- action 0 - To go up\n",
        "- action 1 - To go right\n",
        "- action 2 - To go down\n",
        "- action 3 - To go left"
      ],
      "metadata": {
        "id": "8Vgr7ZvD0iSc"
      }
    },
    {
      "cell_type": "code",
      "source": [
        "action = 2\n",
        "next_state, reward, done, info = env.step(action)\n",
        "print(f\"After moving down 1 row, the agent is in the state: {next_state}\")\n",
        "print(f\"After moving down 1 row, the reward is: {reward}\")\n",
        "print(f\"After moving down 1 row, the task is\", \"\" if done else \"not\", \"Finished\")"
      ],
      "metadata": {
        "colab": {
          "base_uri": "https://localhost:8080/"
        },
        "id": "-EP6XoFH1eLc",
        "outputId": "0e5731ab-f88b-4534-ec2d-9427a47bd566"
      },
      "execution_count": 6,
      "outputs": [
        {
          "output_type": "stream",
          "name": "stdout",
          "text": [
            "After moving down 1 row, the agent is in the state: (1, 0)\n",
            "After moving down 1 row, the reward is: -1.0\n",
            "After moving down 1 row, the task is not Finished\n"
          ]
        }
      ]
    },
    {
      "cell_type": "markdown",
      "source": [
        "Render new state"
      ],
      "metadata": {
        "id": "WKzof8Lo2RNU"
      }
    },
    {
      "cell_type": "code",
      "source": [
        "frame = env.render(mode = 'rgb_array')\n",
        "plt.axis('off')\n",
        "plt.title(f\"State : {next_state}\")\n",
        "plt.imshow(frame)"
      ],
      "metadata": {
        "colab": {
          "base_uri": "https://localhost:8080/",
          "height": 445
        },
        "id": "eGX_-IxS1Z4Q",
        "outputId": "aef104b7-2f6a-443d-f4e3-d9912ddc9fce"
      },
      "execution_count": 7,
      "outputs": [
        {
          "output_type": "execute_result",
          "data": {
            "text/plain": [
              "<matplotlib.image.AxesImage at 0x7b1fcc8ae950>"
            ]
          },
          "metadata": {},
          "execution_count": 7
        },
        {
          "output_type": "display_data",
          "data": {
            "text/plain": [
              "<Figure size 640x480 with 1 Axes>"
            ],
            "image/png": "[encoded data removed]"
          },
          "metadata": {}
        }
      ]
    },
    {
      "cell_type": "markdown",
      "source": [
        "### `env.close()`\n",
        "\n",
        "It completes the task and closes the environment, releasing the associated resources."
      ],
      "metadata": {
        "id": "yCMuzppm21Ja"
      }
    },
    {
      "cell_type": "code",
      "source": [
        "env.close()"
      ],
      "metadata": {
        "id": "9FWGWtzo3BJg"
      },
      "execution_count": 8,
      "outputs": []
    },
    {
      "cell_type": "markdown",
      "source": [
        "## Maze environment: Find the exit.\n",
        "\n",
        "\n",
        "In this section we are going to familiarize ourselves with the environment that we'll use in the lessons 2 (dynamic programming), 3 (Monte Carlo methods) and 4 (temporal difference methods). This environment is perfect for learning the basics of Reinforcement Learning because:\n",
        "\n",
        "- It has few states (25)\n",
        "- Transitions between states are deterministic ($p(s', r| s, a) = 1$)\n",
        "- All rewards are the same (-1) until the episode concludes. Thus facilitating the study of the value and action-value functions\n",
        "\n",
        "Through this environment, we are going to review the concepts seen in lesson 1 (The Markov decision process):\n",
        "\n",
        "- States and state space\n",
        "- Actions and action space\n",
        "- Trajectories and episodes\n",
        "- Rewards and returns\n",
        "- Policy\n",
        "\n",
        "\n",
        "The environment is a maze of 5x5 cells, in which the goal of the agent is to find the exit, located in the lower right corner, in the cell (4,4). In the image, the exit is colored in light green.\n",
        "\n",
        "To reach the exit, the agent can take four different actions: move up, move down, move left and move right."
      ],
      "metadata": {
        "id": "kF9awBPQ3Ng1"
      }
    },
    {
      "cell_type": "markdown",
      "source": [
        "### **Create The Environment**"
      ],
      "metadata": {
        "id": "C84tG9Qf3OnK"
      }
    },
    {
      "cell_type": "code",
      "source": [
        "env = Maze()"
      ],
      "metadata": {
        "id": "SzwhX7653wOX"
      },
      "execution_count": 9,
      "outputs": []
    },
    {
      "cell_type": "markdown",
      "source": [
        "##### States and state space\n",
        "\n",
        "The states consist of a tuple of two integers, both in the range [0, 4], representing the row and column in which the agent is currently located:\n",
        "<br>\n",
        "<br>\n",
        "\n",
        "\\begin{equation}\n",
        "    s = (row, column) \\;\\\\\n",
        "    row, column \\in \\{0,1,2,3, 4\\}\n",
        "\\end{equation}\n",
        "<br>\n",
        "<br>\n",
        "The state space (set of all possible states in the task) has 25 elements (all possible combinations of rows and columns):\n",
        "\n",
        "\n",
        "\\begin{equation}\n",
        "    Rows \\times Columns \\;\\\\\n",
        "    S = \\{(0, 0), (0, 1), (1, 0), ...\\}\n",
        "\\end{equation}\n",
        "\n",
        "Information about the state space is stored in the env.observation_space property. In this environment, it is of MultiDiscrete([5 5]) type, which means that it consists of two elements (rows and columns), each with 5 different values."
      ],
      "metadata": {
        "id": "BSnZ9vvO3ydn"
      }
    },
    {
      "cell_type": "code",
      "source": [
        "print(f\"For example, the initial state is: {env.reset()}\")\n",
        "print(f\"The space state is of type: {env.observation_space}\")"
      ],
      "metadata": {
        "colab": {
          "base_uri": "https://localhost:8080/"
        },
        "id": "c_5zax8T352j",
        "outputId": "1247d90e-06eb-4590-bda4-277c60b6c687"
      },
      "execution_count": 10,
      "outputs": [
        {
          "output_type": "stream",
          "name": "stdout",
          "text": [
            "For example, the initial state is: (0, 0)\n",
            "The space state is of type: MultiDiscrete([5 5])\n"
          ]
        }
      ]
    },
    {
      "cell_type": "markdown",
      "source": [
        "##### Actions and action space\n",
        "\n",
        "In this environment, there are four different actions and they are represented by integers:\n",
        "\n",
        "\\begin{equation}\n",
        "a \\in \\{0, 1, 2, 3\\}\n",
        "\\end{equation}\n",
        "\n",
        "- 0 -> move up\n",
        "- 1 -> move right\n",
        "- 2 -> move down\n",
        "- 3 -> move left\n",
        "\n",
        "To execute an action, simply pass it as an argument to the env.step method. Information about the action space is stored in the env.action_space property which is of Discrete(4) class. This means that in this case it only consists of an element in the range [0,4), unlike the state space seen above."
      ],
      "metadata": {
        "id": "oUSNv_K-4GJZ"
      }
    },
    {
      "cell_type": "code",
      "source": [
        "print(f\"An example of a valid action is: {env.action_space.sample()}\")\n",
        "print(f\"The action state is of type: {env.action_space}\")"
      ],
      "metadata": {
        "colab": {
          "base_uri": "https://localhost:8080/"
        },
        "id": "02XIkK7x4cyO",
        "outputId": "0017a0e7-6663-4ac9-a637-d44e8668353c"
      },
      "execution_count": 11,
      "outputs": [
        {
          "output_type": "stream",
          "name": "stdout",
          "text": [
            "An example of a valid action is: 0\n",
            "The action state is of type: Discrete(4)\n"
          ]
        }
      ]
    },
    {
      "cell_type": "markdown",
      "source": [
        "##### **Trajectories and episodes**\n",
        "\n",
        "A trajectory is the sequence generated by moving from one state to another (both arbitrary)\n",
        "\n",
        "\\begin{equation}\n",
        "  \\tau = S_0, A_0, R_1, S_1, A_1, ... R_N, S_N,\n",
        "\\end{equation}\n",
        "\n",
        "Let's generate a trajectory of 3 moves in code:\n"
      ],
      "metadata": {
        "id": "uEdxTr3e4Wd_"
      }
    },
    {
      "cell_type": "code",
      "source": [
        "env = Maze()\n",
        "state = env.reset()\n",
        "trajectory = []\n",
        "for _ in range(3):\n",
        "  action = env.action_space.sample()\n",
        "  next_state, reward, done, info = env.step(action)\n",
        "  trajectory.append([state, action, reward, next_state, done])\n",
        "  state = next_state\n",
        "env.close()\n",
        "\n",
        "print(f\"The trajectory is: {trajectory}\")"
      ],
      "metadata": {
        "colab": {
          "base_uri": "https://localhost:8080/"
        },
        "id": "6Ur2al8b4j-Z",
        "outputId": "aca251e5-0a9b-4c31-c3d4-e2cef31c2c62"
      },
      "execution_count": 12,
      "outputs": [
        {
          "output_type": "stream",
          "name": "stdout",
          "text": [
            "The trajectory is: [[(0, 0), 2, -1.0, (1, 0), False], [(1, 0), 0, -1.0, (0, 0), False], [(0, 0), 3, -1.0, (0, 0), False]]\n"
          ]
        }
      ]
    },
    {
      "cell_type": "code",
      "source": [
        "env = Maze()\n",
        "start = env.reset()\n",
        "episode = []\n",
        "done = False\n",
        "while not done:\n",
        "  action = env.action_space.sample()\n",
        "  next_state, reward, done, info = env.step(action)\n",
        "  episode.append([start, action, reward, next_state, done])\n",
        "  start = next_state\n",
        "env.close()\n",
        "\n",
        "print(f\"The episode is: {episode}\")"
      ],
      "metadata": {
        "colab": {
          "base_uri": "https://localhost:8080/"
        },
        "id": "QgPw188W7V_Q",
        "outputId": "d3ad4c96-1b40-41a8-fb3c-19c033608a1b"
      },
      "execution_count": 13,
      "outputs": [
        {
          "output_type": "stream",
          "name": "stdout",
          "text": [
            "The episode is: [[(0, 0), 3, -1.0, (0, 0), False], [(0, 0), 3, -1.0, (0, 0), False], [(0, 0), 2, -1.0, (1, 0), False], [(1, 0), 2, -1.0, (2, 0), False], [(2, 0), 2, -1.0, (3, 0), False], [(3, 0), 0, -1.0, (2, 0), False], [(2, 0), 2, -1.0, (3, 0), False], [(3, 0), 1, -1.0, (3, 0), False], [(3, 0), 3, -1.0, (3, 0), False], [(3, 0), 3, -1.0, (3, 0), False], [(3, 0), 1, -1.0, (3, 0), False], [(3, 0), 3, -1.0, (3, 0), False], [(3, 0), 0, -1.0, (2, 0), False], [(2, 0), 3, -1.0, (2, 0), False], [(2, 0), 3, -1.0, (2, 0), False], [(2, 0), 0, -1.0, (1, 0), False], [(1, 0), 0, -1.0, (0, 0), False], [(0, 0), 3, -1.0, (0, 0), False], [(0, 0), 3, -1.0, (0, 0), False], [(0, 0), 3, -1.0, (0, 0), False], [(0, 0), 3, -1.0, (0, 0), False], [(0, 0), 3, -1.0, (0, 0), False], [(0, 0), 1, -1.0, (0, 1), False], [(0, 1), 1, -1.0, (0, 2), False], [(0, 2), 2, -1.0, (0, 2), False], [(0, 2), 2, -1.0, (0, 2), False], [(0, 2), 3, -1.0, (0, 1), False], [(0, 1), 2, -1.0, (1, 1), False], [(1, 1), 1, -1.0, (1, 1), False], [(1, 1), 3, -1.0, (1, 1), False], [(1, 1), 1, -1.0, (1, 1), False], [(1, 1), 3, -1.0, (1, 1), False], [(1, 1), 1, -1.0, (1, 1), False], [(1, 1), 0, -1.0, (0, 1), False], [(0, 1), 1, -1.0, (0, 2), False], [(0, 2), 3, -1.0, (0, 1), False], [(0, 1), 2, -1.0, (1, 1), False], [(1, 1), 0, -1.0, (0, 1), False], [(0, 1), 2, -1.0, (1, 1), False], [(1, 1), 2, -1.0, (2, 1), False], [(2, 1), 0, -1.0, (1, 1), False], [(1, 1), 3, -1.0, (1, 1), False], [(1, 1), 0, -1.0, (0, 1), False], [(0, 1), 2, -1.0, (1, 1), False], [(1, 1), 3, -1.0, (1, 1), False], [(1, 1), 1, -1.0, (1, 1), False], [(1, 1), 1, -1.0, (1, 1), False], [(1, 1), 2, -1.0, (2, 1), False], [(2, 1), 3, -1.0, (2, 1), False], [(2, 1), 2, -1.0, (3, 1), False], [(3, 1), 2, -1.0, (3, 1), False], [(3, 1), 3, -1.0, (3, 1), False], [(3, 1), 2, -1.0, (3, 1), False], [(3, 1), 1, -1.0, (3, 1), False], [(3, 1), 1, -1.0, (3, 1), False], [(3, 1), 3, -1.0, (3, 1), False], [(3, 1), 1, -1.0, (3, 1), False], [(3, 1), 0, -1.0, (2, 1), False], [(2, 1), 1, -1.0, (2, 1), False], [(2, 1), 3, -1.0, (2, 1), False], [(2, 1), 3, -1.0, (2, 1), False], [(2, 1), 3, -1.0, (2, 1), False], [(2, 1), 3, -1.0, (2, 1), False], [(2, 1), 0, -1.0, (1, 1), False], [(1, 1), 1, -1.0, (1, 1), False], [(1, 1), 2, -1.0, (2, 1), False], [(2, 1), 2, -1.0, (3, 1), False], [(3, 1), 2, -1.0, (3, 1), False], [(3, 1), 2, -1.0, (3, 1), False], [(3, 1), 3, -1.0, (3, 1), False], [(3, 1), 1, -1.0, (3, 1), False], [(3, 1), 3, -1.0, (3, 1), False], [(3, 1), 2, -1.0, (3, 1), False], [(3, 1), 1, -1.0, (3, 1), False], [(3, 1), 3, -1.0, (3, 1), False], [(3, 1), 2, -1.0, (3, 1), False], [(3, 1), 2, -1.0, (3, 1), False], [(3, 1), 0, -1.0, (2, 1), False], [(2, 1), 1, -1.0, (2, 1), False], [(2, 1), 3, -1.0, (2, 1), False], [(2, 1), 1, -1.0, (2, 1), False], [(2, 1), 2, -1.0, (3, 1), False], [(3, 1), 2, -1.0, (3, 1), False], [(3, 1), 3, -1.0, (3, 1), False], [(3, 1), 3, -1.0, (3, 1), False], [(3, 1), 1, -1.0, (3, 1), False], [(3, 1), 1, -1.0, (3, 1), False], [(3, 1), 1, -1.0, (3, 1), False], [(3, 1), 3, -1.0, (3, 1), False], [(3, 1), 3, -1.0, (3, 1), False], [(3, 1), 2, -1.0, (3, 1), False], [(3, 1), 2, -1.0, (3, 1), False], [(3, 1), 0, -1.0, (2, 1), False], [(2, 1), 2, -1.0, (3, 1), False], [(3, 1), 3, -1.0, (3, 1), False], [(3, 1), 0, -1.0, (2, 1), False], [(2, 1), 0, -1.0, (1, 1), False], [(1, 1), 2, -1.0, (2, 1), False], [(2, 1), 0, -1.0, (1, 1), False], [(1, 1), 3, -1.0, (1, 1), False], [(1, 1), 0, -1.0, (0, 1), False], [(0, 1), 3, -1.0, (0, 0), False], [(0, 0), 0, -1.0, (0, 0), False], [(0, 0), 2, -1.0, (1, 0), False], [(1, 0), 0, -1.0, (0, 0), False], [(0, 0), 0, -1.0, (0, 0), False], [(0, 0), 1, -1.0, (0, 1), False], [(0, 1), 3, -1.0, (0, 0), False], [(0, 0), 2, -1.0, (1, 0), False], [(1, 0), 0, -1.0, (0, 0), False], [(0, 0), 1, -1.0, (0, 1), False], [(0, 1), 2, -1.0, (1, 1), False], [(1, 1), 1, -1.0, (1, 1), False], [(1, 1), 1, -1.0, (1, 1), False], [(1, 1), 2, -1.0, (2, 1), False], [(2, 1), 2, -1.0, (3, 1), False], [(3, 1), 2, -1.0, (3, 1), False], [(3, 1), 3, -1.0, (3, 1), False], [(3, 1), 1, -1.0, (3, 1), False], [(3, 1), 2, -1.0, (3, 1), False], [(3, 1), 1, -1.0, (3, 1), False], [(3, 1), 1, -1.0, (3, 1), False], [(3, 1), 0, -1.0, (2, 1), False], [(2, 1), 1, -1.0, (2, 1), False], [(2, 1), 0, -1.0, (1, 1), False], [(1, 1), 1, -1.0, (1, 1), False], [(1, 1), 3, -1.0, (1, 1), False], [(1, 1), 1, -1.0, (1, 1), False], [(1, 1), 3, -1.0, (1, 1), False], [(1, 1), 3, -1.0, (1, 1), False], [(1, 1), 0, -1.0, (0, 1), False], [(0, 1), 1, -1.0, (0, 2), False], [(0, 2), 1, -1.0, (0, 3), False], [(0, 3), 1, -1.0, (0, 4), False], [(0, 4), 1, -1.0, (0, 4), False], [(0, 4), 3, -1.0, (0, 3), False], [(0, 3), 2, -1.0, (1, 3), False], [(1, 3), 3, -1.0, (1, 3), False], [(1, 3), 0, -1.0, (0, 3), False], [(0, 3), 2, -1.0, (1, 3), False], [(1, 3), 0, -1.0, (0, 3), False], [(0, 3), 3, -1.0, (0, 2), False], [(0, 2), 3, -1.0, (0, 1), False], [(0, 1), 3, -1.0, (0, 0), False], [(0, 0), 1, -1.0, (0, 1), False], [(0, 1), 1, -1.0, (0, 2), False], [(0, 2), 2, -1.0, (0, 2), False], [(0, 2), 2, -1.0, (0, 2), False], [(0, 2), 0, -1.0, (0, 2), False], [(0, 2), 1, -1.0, (0, 3), False], [(0, 3), 0, -1.0, (0, 3), False], [(0, 3), 2, -1.0, (1, 3), False], [(1, 3), 2, -1.0, (2, 3), False], [(2, 3), 1, -1.0, (2, 3), False], [(2, 3), 3, -1.0, (2, 2), False], [(2, 2), 1, -1.0, (2, 3), False], [(2, 3), 0, -1.0, (1, 3), False], [(1, 3), 1, -1.0, (1, 3), False], [(1, 3), 2, -1.0, (2, 3), False], [(2, 3), 2, -1.0, (2, 3), False], [(2, 3), 0, -1.0, (1, 3), False], [(1, 3), 3, -1.0, (1, 3), False], [(1, 3), 3, -1.0, (1, 3), False], [(1, 3), 2, -1.0, (2, 3), False], [(2, 3), 1, -1.0, (2, 3), False], [(2, 3), 0, -1.0, (1, 3), False], [(1, 3), 0, -1.0, (0, 3), False], [(0, 3), 2, -1.0, (1, 3), False], [(1, 3), 0, -1.0, (0, 3), False], [(0, 3), 0, -1.0, (0, 3), False], [(0, 3), 3, -1.0, (0, 2), False], [(0, 2), 3, -1.0, (0, 1), False], [(0, 1), 0, -1.0, (0, 1), False], [(0, 1), 3, -1.0, (0, 0), False], [(0, 0), 3, -1.0, (0, 0), False], [(0, 0), 0, -1.0, (0, 0), False], [(0, 0), 3, -1.0, (0, 0), False], [(0, 0), 2, -1.0, (1, 0), False], [(1, 0), 0, -1.0, (0, 0), False], [(0, 0), 3, -1.0, (0, 0), False], [(0, 0), 2, -1.0, (1, 0), False], [(1, 0), 2, -1.0, (2, 0), False], [(2, 0), 1, -1.0, (2, 0), False], [(2, 0), 0, -1.0, (1, 0), False], [(1, 0), 2, -1.0, (2, 0), False], [(2, 0), 1, -1.0, (2, 0), False], [(2, 0), 1, -1.0, (2, 0), False], [(2, 0), 3, -1.0, (2, 0), False], [(2, 0), 1, -1.0, (2, 0), False], [(2, 0), 3, -1.0, (2, 0), False], [(2, 0), 2, -1.0, (3, 0), False], [(3, 0), 0, -1.0, (2, 0), False], [(2, 0), 3, -1.0, (2, 0), False], [(2, 0), 2, -1.0, (3, 0), False], [(3, 0), 1, -1.0, (3, 0), False], [(3, 0), 3, -1.0, (3, 0), False], [(3, 0), 0, -1.0, (2, 0), False], [(2, 0), 3, -1.0, (2, 0), False], [(2, 0), 2, -1.0, (3, 0), False], [(3, 0), 1, -1.0, (3, 0), False], [(3, 0), 1, -1.0, (3, 0), False], [(3, 0), 1, -1.0, (3, 0), False], [(3, 0), 2, -1.0, (4, 0), False], [(4, 0), 1, -1.0, (4, 1), False], [(4, 1), 0, -1.0, (4, 1), False], [(4, 1), 3, -1.0, (4, 0), False], [(4, 0), 0, -1.0, (3, 0), False], [(3, 0), 2, -1.0, (4, 0), False], [(4, 0), 3, -1.0, (4, 0), False], [(4, 0), 3, -1.0, (4, 0), False], [(4, 0), 0, -1.0, (3, 0), False], [(3, 0), 0, -1.0, (2, 0), False], [(2, 0), 2, -1.0, (3, 0), False], [(3, 0), 3, -1.0, (3, 0), False], [(3, 0), 1, -1.0, (3, 0), False], [(3, 0), 1, -1.0, (3, 0), False], [(3, 0), 0, -1.0, (2, 0), False], [(2, 0), 2, -1.0, (3, 0), False], [(3, 0), 1, -1.0, (3, 0), False], [(3, 0), 2, -1.0, (4, 0), False], [(4, 0), 2, -1.0, (4, 0), False], [(4, 0), 1, -1.0, (4, 1), False], [(4, 1), 2, -1.0, (4, 1), False], [(4, 1), 3, -1.0, (4, 0), False], [(4, 0), 2, -1.0, (4, 0), False], [(4, 0), 3, -1.0, (4, 0), False], [(4, 0), 3, -1.0, (4, 0), False], [(4, 0), 2, -1.0, (4, 0), False], [(4, 0), 3, -1.0, (4, 0), False], [(4, 0), 1, -1.0, (4, 1), False], [(4, 1), 0, -1.0, (4, 1), False], [(4, 1), 2, -1.0, (4, 1), False], [(4, 1), 1, -1.0, (4, 2), False], [(4, 2), 3, -1.0, (4, 1), False], [(4, 1), 1, -1.0, (4, 2), False], [(4, 2), 3, -1.0, (4, 1), False], [(4, 1), 3, -1.0, (4, 0), False], [(4, 0), 1, -1.0, (4, 1), False], [(4, 1), 2, -1.0, (4, 1), False], [(4, 1), 0, -1.0, (4, 1), False], [(4, 1), 2, -1.0, (4, 1), False], [(4, 1), 1, -1.0, (4, 2), False], [(4, 2), 1, -1.0, (4, 2), False], [(4, 2), 2, -1.0, (4, 2), False], [(4, 2), 3, -1.0, (4, 1), False], [(4, 1), 1, -1.0, (4, 2), False], [(4, 2), 1, -1.0, (4, 2), False], [(4, 2), 3, -1.0, (4, 1), False], [(4, 1), 1, -1.0, (4, 2), False], [(4, 2), 0, -1.0, (3, 2), False], [(3, 2), 1, -1.0, (3, 3), False], [(3, 3), 1, -1.0, (3, 4), False], [(3, 4), 1, -1.0, (3, 4), False], [(3, 4), 0, -1.0, (3, 4), False], [(3, 4), 0, -1.0, (3, 4), False], [(3, 4), 0, -1.0, (3, 4), False], [(3, 4), 2, -1.0, (4, 4), True]]\n"
          ]
        }
      ]
    },
    {
      "cell_type": "markdown",
      "source": [
        "##### Rewards and returns\n",
        "\n",
        "A reward is numerical feedback that the environment generates when the agent takes an action *a* in a state *s*:\n",
        "\n",
        "\\begin{equation}\n",
        "    r = r(s, a)\n",
        "\\end{equation}\n",
        "\n",
        "Let's generate a reward from the environment:"
      ],
      "metadata": {
        "id": "M0XniMqX8Jxi"
      }
    },
    {
      "cell_type": "code",
      "source": [
        "env = Maze()\n",
        "state = env.reset()\n",
        "action = env.action_space.sample()\n",
        "_, reward, _, _ = env.step(action)\n",
        "print(f\"We achieved a reward of {reward} by taking action {action} in state {state}\")"
      ],
      "metadata": {
        "colab": {
          "base_uri": "https://localhost:8080/"
        },
        "id": "gHF4e1yB8gzd",
        "outputId": "88c863b8-3457-4381-cecd-4d96225ea526"
      },
      "execution_count": 14,
      "outputs": [
        {
          "output_type": "stream",
          "name": "stdout",
          "text": [
            "We achieved a reward of -1.0 by taking action 2 in state (0, 0)\n"
          ]
        }
      ]
    },
    {
      "cell_type": "markdown",
      "source": [
        "The return associated with a moment in time *t* is the sum (discounted) of rewards that the agent obtains from that moment. We are going to calculate $G_0$, that is, the return to the beginning of the episode:\n",
        "\n",
        "\\begin{equation}\n",
        "    G_0 = R_1 + \\gamma R_2 + \\gamma^2 R_3 + ... + \\gamma^{T-1} R_T\n",
        "\\end{equation}\n",
        "\n",
        "\n",
        "\n",
        "Let's assume that the discount factor $\\gamma = 0.99$:"
      ],
      "metadata": {
        "id": "ImLJxK889Fsr"
      }
    },
    {
      "cell_type": "code",
      "source": [
        "env = Maze()\n",
        "state = env.reset()\n",
        "done = False\n",
        "gamma = 0.99\n",
        "G_O = 0\n",
        "t = 0\n",
        "while not done:\n",
        "  action = env.action_space.sample()\n",
        "  next_state, reward, done, info = env.step(action)\n",
        "  G_O += (gamma ** t) * reward\n",
        "  t += 1\n",
        "env.close()\n",
        "\n",
        "print(f\"\"\" It took us {t} moves to find the exit, and each reward r(s,a) = -1, so the return amounts to {G_O}\"\"\")"
      ],
      "metadata": {
        "colab": {
          "base_uri": "https://localhost:8080/"
        },
        "id": "smwE249x9OsK",
        "outputId": "4c6e6636-ec82-44c2-930f-a2c3967383ce"
      },
      "execution_count": 15,
      "outputs": [
        {
          "output_type": "stream",
          "name": "stdout",
          "text": [
            " It took us 1660 moves to find the exit, and each reward r(s,a) = -1, so the return amounts to -99.99999431902278\n"
          ]
        }
      ]
    },
    {
      "cell_type": "markdown",
      "source": [
        "##### Policy\n",
        "\n",
        "A policy is a function $\\pi(a|s) \\in [0, 1]$ that gives the probability of an action given the current state. The function takes the state and action as inputs and returns a float in [0,1].\n",
        "\n",
        "Since in practice we will need to compute the probabilities of all actions, we will represent the policy as a function that takes the state as an argument and returns the probabilities associated with each of the actions. Thus, if the probabilities are:\n",
        "\n",
        "[0.5, 0.3, 0.1]\n",
        "\n",
        "we will understand that the action with index 0 has a 50% probability of being chosen, the one with index 1 has 30% and the one with index 2 has 10%.\n"
      ],
      "metadata": {
        "id": "riSOOP8R-C6s"
      }
    },
    {
      "cell_type": "code",
      "source": [
        "def random_policy(state):\n",
        "  return np.array([0.25] * 4)"
      ],
      "metadata": {
        "id": "i8KOJoQp-MqS"
      },
      "execution_count": 16,
      "outputs": []
    },
    {
      "cell_type": "markdown",
      "source": [
        "### **Playing an Episode with random policy**"
      ],
      "metadata": {
        "id": "6qBS4Tsa-U7k"
      }
    },
    {
      "cell_type": "code",
      "source": [
        "env = Maze()\n",
        "state = env.reset()"
      ],
      "metadata": {
        "id": "rT0amB2I_NFi"
      },
      "execution_count": 17,
      "outputs": []
    },
    {
      "cell_type": "markdown",
      "source": [
        "Compute $p(a|s) \\ \\forall a \\in \\{0, 1, 2, 3\\}$"
      ],
      "metadata": {
        "id": "nclQHEA-_O2r"
      }
    },
    {
      "cell_type": "code",
      "source": [
        "action_probabilities = random_policy(state)"
      ],
      "metadata": {
        "id": "GGhFDZEC_SFB"
      },
      "execution_count": 18,
      "outputs": []
    },
    {
      "cell_type": "code",
      "source": [
        "objects = ('Up', 'Right', 'Down', 'Left')\n",
        "y_pos = np.arange(len(objects))\n",
        "\n",
        "plt.bar(y_pos, action_probabilities, alpha=0.5)\n",
        "plt.xticks(y_pos, objects)\n",
        "plt.ylabel('P(a|s)')\n",
        "plt.title('Random Policy')\n",
        "plt.tight_layout()\n",
        "\n",
        "plt.show()"
      ],
      "metadata": {
        "colab": {
          "base_uri": "https://localhost:8080/",
          "height": 487
        },
        "id": "RzUqHPEI_UBw",
        "outputId": "65458d75-bd14-4973-d435-2581af7bb3d1"
      },
      "execution_count": 19,
      "outputs": [
        {
          "output_type": "display_data",
          "data": {
            "text/plain": [
              "<Figure size 640x480 with 1 Axes>"
            ],
            "image/png": "[encoded data removed]"
          },
          "metadata": {}
        }
      ]
    },
    {
      "cell_type": "markdown",
      "source": [
        "##### Use the policy to play an episode (This cell has been updated, read below)\n",
        "\n",
        "\n",
        "Dear student, to keep the course content up to date, the code for displaying our policy facing the environment has been updated.\n",
        "This function works the same way as described in the video, the only difference\n",
        "is that now we save a screenshot of every state in the `frames` variable and then, we use the `display_video` function to turn those images into a video.\n",
        "\n",
        "<br>\n",
        "\n",
        "In any case, this is convenience code that is completely unrelated to Reinforcement Learning, so in the following notebooks, I'll just make it available to you in the first code cell (which you can just run and ignore, like you did this time). That way, you'll be able to focus on the important part.\n",
        "\n",
        "Cheers!\n",
        "\n",
        "\n",
        "\n"
      ],
      "metadata": {
        "id": "q2Ah6mcZ_Znh"
      }
    },
    {
      "cell_type": "code",
      "source": [
        "def test_agent(environment, policy):\n",
        "    frames = []\n",
        "    state = env.reset()\n",
        "    done = False\n",
        "    frames.append(env.render(mode=\"rgb_array\"))\n",
        "\n",
        "    while not done:\n",
        "        action_probs = policy(state)\n",
        "        action = np.random.choice(range(4), 1, p=action_probs)\n",
        "        next_state, reward, done, extra_info = env.step(action)\n",
        "        img = env.render(mode=\"rgb_array\")\n",
        "        frames.append(img)\n",
        "        state = next_state\n",
        "\n",
        "    return display_video(frames)\n",
        "\n",
        "\n",
        "test_agent(env, random_policy)"
      ],
      "metadata": {
        "colab": {
          "base_uri": "https://localhost:8080/",
          "height": 521
        },
        "id": "D5LRWw2K_cJ9",
        "outputId": "ce81da8d-3b26-43d6-f99b-c87cd124f247"
      },
      "execution_count": 20,
      "outputs": [
        {
          "output_type": "execute_result",
          "data": {
            "text/plain": [
              "<IPython.core.display.HTML object>"
            ],
            "text/html": [
              "<video width=\"500\" height=\"500\" controls autoplay>\n",
              "  <source type=\"video/mp4\" src=\"data:video/mp4;base64,AAAAIGZ0eXBNNFYgAAACAE00ViBpc29taXNvMmF2YzEAAAAIZnJlZQAAaF9tZGF0AAACrgYF//+q\n",
              "3EXpvebZSLeWLNgg2SPu73gyNjQgLSBjb3JlIDE2MyByMzA2MCA1ZGI2YWE2IC0gSC4yNjQvTVBF\n",
              "Ry00IEFWQyBjb2RlYyAtIENvcHlsZWZ0IDIwMDMtMjAyMSAtIGh0dHA6Ly93d3cudmlkZW9sYW4u\n",
              "b3JnL3gyNjQuaHRtbCAtIG9wdGlvbnM6IGNhYmFjPTEgcmVmPTMgZGVibG9jaz0xOjA6MCBhbmFs\n",
              "eXNlPTB4MzoweDExMyBtZT1oZXggc3VibWU9NyBwc3k9MSBwc3lfcmQ9MS4wMDowLjAwIG1peGVk\n",
              "X3JlZj0xIG1lX3JhbmdlPTE2IGNocm9tYV9tZT0xIHRyZWxsaXM9MSA4eDhkY3Q9MSBjcW09MCBk\n",
              "ZWFkem9uZT0yMSwxMSBmYXN0X3Bza2lwPTEgY2hyb21hX3FwX29mZnNldD0tMiB0aHJlYWRzPTMg\n",
              "bG9va2FoZWFkX3RocmVhZHM9MSBzbGljZWRfdGhyZWFkcz0wIG5yPTAgZGVjaW1hdGU9MSBpbnRl\n",
              "cmxhY2VkPTAgYmx1cmF5X2NvbXBhdD0wIGNvbnN0cmFpbmVkX2ludHJhPTAgYmZyYW1lcz0zIGJf\n",
              "cHlyYW1pZD0yIGJfYWRhcHQ9MSBiX2JpYXM9MCBkaXJlY3Q9MSB3ZWlnaHRiPTEgb3Blbl9nb3A9\n",
              "MCB3ZWlnaHRwPTIga2V5aW50PTI1MCBrZXlpbnRfbWluPTIwIHNjZW5lY3V0PTQwIGludHJhX3Jl\n",
              "ZnJlc2g9MCByY19sb29rYWhlYWQ9NDAgcmM9Y3JmIG1idHJlZT0xIGNyZj0yMy4wIHFjb21wPTAu\n",
              "NjAgcXBtaW49MCBxcG1heD02OSBxcHN0ZXA9NCBpcF9yYXRpbz0xLjQwIGFxPTE6MS4wMACAAAAF\n",
              "tGWIhACf2WdBBMcSgR79PWMxFJhtRQC+1MOxfqRffl+BIGYSpbn04L89reMR6l2wAAADAAADAECn\n",
              "OiagH/jHhnJs3HXkrrQfF5oa8HLd82/vrqnbi9FGfNPCK26eIvaUBBf4oP+fVMPBvuRiO+DV4wLo\n",
              "P9x7N0XdPUdqVGAfTAdG1o0GH0NaRuvjeVhHzmox7A6N+eICjOjLIQQcKJY2Vw1eQB/wPSmaKmLL\n",
              "hLYRY/C5ykhkxoNaOGjdTjd4WxEWo0205iDX1XxeMl0zHF2uaNcA+1JRnUdKfPKyyiIPDc33xSf6\n",
              "JCvQABVSGbZUH3HnoEd6/ZZqBZbzIH2huUQIv3LNTP+hZrAxqFBOfzeTWj9IV0xdvwTlNxpPldmv\n",
              "cz7bsGgoSIPO9WjN1E3zkQyUHfCfKhvjTsNAIA9Is0ZV/f93ji+zBPmeMFL1Flx14pbQ6GAAAVZv\n",
              "NAWdkukBGam3vvFa1xDUtvYAxR3V1yK1jP2b2czXUqWObxqCNxlRiEippN8/qXSz6HkqBeqHWtcY\n",
              "h1sg3bNWxiynZsU9oy3stxwpHwoFPPwAAHXg6jNzUeVRm5Nc05bm2TeG3VhOIIZWfk5FUHLeXNfo\n",
              "XOQgWC+RvWx4Wyx6EZ+powR2DWNNJEY0tsxP+I5ho4hYqw9Qn8BAq3pcJviLteHDzG6yGP8/+vmB\n",
              "U+kHnkK4axLWo87SF6zCCtYEjjzpZySJjeKPRnOR87AHEQZmbGMA7nBDHwiiWIG26u6NhCCxT/jx\n",
              "EUkYZrfdc5OznhHE4yoAA7XF87IgdzXx2yPx0p8TbFApaf8kRADXleoO6mB/RMRW8/beyOOubEbS\n",
              "KPTMujcblBEXTDvxPU/CfLycXSuqVkQOBX7jebAB9D9LTgznDg4m5aXtCza21liV+uxko2ZkK2ZZ\n",
              "ZMDLCznTo0bJKVxuL+ujdBFmpob1fA0dXoUOdrvbvHKsDqOQKuzpQIZl8puB6CmkkoszxQqx7veE\n",
              "0gLLWnL83fVa8HX0dmnoPVcPNndTDbX4qnGZDWBydXYI4cHmbD1NcKO5eMTZ+pvd3QWlKKg4ukUu\n",
              "MfDkgqwJYzqBbmW/Xfc+iOLhPHnh4FXIrMBvZtLl++HyvsZBfaEhhsxzQX3JtgkQoU2pOlrYrQJp\n",
              "2mimDWyELzhRvhVogqimszD555pc2W6ZhZG7iH2TbE0k7bA+anrhDBgjNEC/pCvGQNOQQkb7km9Y\n",
              "zaI9S2wfqFpBIfqDBnjIfGpbvqAJP7lNvrhm5X+e33weKV2cohjoZM2R3BxlaaseM6c632fk2Vg1\n",
              "CEj14yT4jV5CleXuZXM1eTBaqxIK4s4pWf9TaQeJgj0zUMHUQxOhoE/MlB9agiOybbqKlPxGQ8Cu\n",
              "pFiFR/TuPfPnj1vKOg/xJxDgAADGwyGULdBYudsFOUBYfrh6f6/41jWjmiTHtmry4N0fk7/jovsR\n",
              "eqaRgjtsNDLUAHfTdBasOgumfiYWODZLLNE2VufjozRNn3tlD5w01Fre7+D3tlHsQtAmZRGBVlRE\n",
              "3+IH4/hO0ybuhN6sck9ApgVnoOwtYIHTMroOhjjbMnpEhXSgsipgmFk4zNyKfGpgZUPIa/LzUoFA\n",
              "HK5cPchaCrwJs5Pta5SOn4+40mkJzQrAMy3sqRrzw+CkXEVYfgWefqscyJ2Fk+gBCsOdXYHpiC4p\n",
              "XGXIoD+YFepQF1n6Bw0PntpGqgZOr3mHAZA7jJzKNRLU0Y3v/aex5VUcJuYcdq56gWXZksRQM0TF\n",
              "z+iAAQfMIzmE5i+dNMHgh6Q+mJxAC12EILiKhLyeHMxZumhqd5MskN6q2VB65JDae0eNPjW5Yql5\n",
              "ztq072ije+P+jt5cUbUJAjjLV9wLIwP84CRerdR1+ZOc2pygBBaKPi0AglvVhIsO7BjBN/f4RYUj\n",
              "4rnYRU/GoycUIisA1aNWdCsNNNH+jUn0gBj6Fkv+OReBAmzhAAABfEGaI2xJ/wAfP6cNQEbxUeXE\n",
              "phnS2VlX6fYmw2s9VZFQULLwFo0JW259LMpRU77Xru0SR30HDkaWd9Ffl2W9YX+LXO+tUjtaKNIu\n",
              "WNBWMcxBP/Gi7nrJ4uNtp8c6Vcux8v4fsHRboWbpvc4dY7xytVN4yyVVcbHOGOkzv5lnf49FJtmS\n",
              "e/1VEi2adKxcv4y2HCRhBaZaRcanoPDwQCmztCue5Kb/3rT83ZUU0CTJ7ujectXMwJ4ERxT0MHF9\n",
              "5deLqj4WWttINDCrdcq8ZSwTmPzeQsVQVO8oBRx48KH4akImEUbaAMFVlhni0o6X08wSJXspM7Km\n",
              "kolRm1sUjApIGlSuLsr2qIkv6HvMIrqh0KrgwJ2saQYkdGWy3d45TTwP8l+3G8V8AmrG+jQDMsqh\n",
              "2vy2HYoFjNyEBCcQkZmq36SwOhxx4LAUiNB25e/cAAHIKn2TB9Q7714xU7BecRfHOI71jnY+yIaI\n",
              "ixux1LWhXyICckvhgaL43pMAAGDAAAAAKUGeQXiFPz2qX/mBWGf6eCFTZIAzDkrMH3hPTmCfrACe\n",
              "dthaneggAAH/AAAAIgGeYmpC3z9YjNLOQBufLmddBAJprAace4Vbr5QAAAMAOmAAAAIqQZpnSahB\n",
              "aJlMCT8AA3r4xkwv9g6QHGpwteVt7FAmBdd1Odp33vHXSX/++eFRwofYLzMRtQZFQTscBRPKzzaH\n",
              "jC6jqdqR1kb09j3vft3qaYE0oEBLzXQmhAppGz2FnCVO7cKpgo2xolNiDMtfdx10o53kjmaZGQhD\n",
              "F7cNQOYJ53cbhRcD/okKalv52pIVM6MaQo2wuH9Csxk1Ah1wy1tpYW09ZjMMEE6Ua/bPfEeC0rjY\n",
              "r34WijJYsdGekirNfC7A1l6Ho5WMV6fyEYlKie5vYSTXDdIZpfnfVn2zizxFC4sQGqCCKV68/4Ij\n",
              "GajVFgijNJkl9n0OVVu/RK9momqbKeKazergxm2ZMk2SUFEjlKACNOxmrHpgxYZJf2Bd9nG0kCOm\n",
              "ln8s5MDcp+easjf/M1TKtlABThnZ60ItQE/qjZcZkZBovwgxPlsQg6ap92AioJ8q/rt5TF66KvOz\n",
              "/Yzjg9/ZgyPX1ofD0tK60OX75BGLNzN1uYCw2TdZUFCunBCy+md9zLi05znVpJO7uKRbAu9YTB/w\n",
              "9LCYXtSQiJdSWWVr/FWbe3KsHFXQ06iguAVcy+uJjpXKbcuwLmKDicZRNANr0u2+kEnWh/T2HWxo\n",
              "MzQ7UOH4Wxly0/UxkF8sCB4tnHGpYUp425cGjeqVxWHmU1uxL4jc649fiq0sdW89+2lNvp2K7Xl6\n",
              "SbAhxY32gOEIw+HwMUDomHcZHK6CybnFwW013AwnKsFACbkAAAAnQZ6FRREsJf8B5vNwsgACSPHR\n",
              "W7ED/A+Qs/6F4pXwnz6DQIv5ABixAAAAIQGepHRC3wDsmIAADlwJe+pBIjsdb/U9DUfc9yZ7VYAS\n",
              "cQAAABYBnqZqQt8A6l6xXHqj+E6WQk3RQAGVAAAB0UGaq0moQWyZTAk/AAfCf7OA+v+USItkcoZD\n",
              "s+Jb7DYpkN5xRd/tN738YIW5jaGZHerFDdU9rr9pTpe1rd66WHT32gwePrwgqbyBIwBfmXGnBprM\n",
              "FG8lYRSWosDrQAPFwrdXSMKeC0vDA21J82/Zw/y50UtgFZp8SKT4m5+qmnW/HtIpgTsadlwfRfWM\n",
              "DSJnD+5ZIXMxc2BccdotkDjDy0IjGgD2J/C0gcV6ss+4KBDontUZ7H2jM4kpv0LsOnEtCFn9i46T\n",
              "vIhgdwRDAjgRfDjURxO3zhH0vsa5vJQbC6lq/qdpLjY2teyucpUxSm7wzL1EwOSt6XD8L9+Y7gqV\n",
              "9Wb9cJ6SHu3tXRSEr5ZwWq6KsMEd7BXiA1+p6hpEts36jIFo0tHF5WLsgKAiIDCoDBppjg80vemF\n",
              "dmAgHnTaXdOVhxeY5KLO0xB2iNEiC94Q/yF3RSumHycxVOm5j0l8INVehAAKVJ2hzn6Kl4MKb5sL\n",
              "GocJewmU5CEPrgFQqimgiqkG53t+S64uOnc1jetNNRg9mEe8EKq2Y1WNRHISn4RItKNxHky0TOmq\n",
              "s1LNVLBgvZYg2p8y+IW7LZESSS/+BnNnzYZY9DOfAlP1jmabbjxmLAAAACdBnslFFSwl/wHm829m\n",
              "cXzeb5CgWUyphK2O34LJAkw0Tur6dqf4HZUAAAAYAZ7odELfAOyPJ+zvUo4fo6rw4i2IAAGzAAAA\n",
              "JAGe6mpC3wDqXrFr1VaOgO28J7a/ZF6DhN0kQ3Z2ONgNtIDKgAAAADdBmu1JqEFsmUwUTJ8AAAMA\n",
              "OeuDGO/TQsUvCG9GH674Vv9FhrIhY3VDzoZV2W6mfySgu6AGVGMqAAAAIQGfDGpC3wIdd8QnEwwH\n",
              "wNVVDqTWneSQvY0C6vL9RRgNmQAAADhBmw9J4QpSZTBSyf8AAAMAOp/lOi5aOWhWzVFqIWgJrIA9\n",
              "bHXFD/GH98G2Zh4AB6HYVEwAOkBVBQAAAB8Bny5qQt8CHXfEJxML3Aia+NK7/a3FJze20of7YAZ9\n",
              "AAABjUGbMEnhDomUwJP/AAADAABpjM9f7FpePUlZ3Y+qrgk+vDIbJqg32D8qr8bGhynXHPp0Uo4j\n",
              "R8vpzycqpv5UPKgYs+VIE+vm4dYigSHsdCa5YfiD5bEXH24JUAdf53ig9sw8fVEei+wKFaJhl5r4\n",
              "ehQjo9tIkmcEiBKPSGrrXCSp9f+hkVRaDGDXbqUtzIM/IMQY4/e+7+TaCKN3ty/IJR5ouXLOR0zB\n",
              "9Bkq/ieKFqpD1hqeLS3Q2P85TnRUYgM2xsh4XxL4kdCcSHbL+qBACGdZKMcMNGyvPzrS82BxfmOL\n",
              "T0X+3ZRhYiId/1mmpaRC1uax5a/XIuYtUjcm/ktvet/tzK2Koegg2bgVQYo8Wl9jZP7xxk91Zc5H\n",
              "mDT067lRAQFfJvkC7sehMXYTUbPE8QvPFWhGMJtRoDW0qIDFbHsov4I9StJ1V3pz8S4Efe91bMC4\n",
              "eZ/S0HrvytcjpHdYV8H5hUo0c1eeLUw85BKc6N2bvKCgsk6i877jagbSYjujvawomoqOuic3HrOC\n",
              "yQwAAAF5QZtTSeEPJlMCTwAAAwAAAwBb/9hO9QCP4K0Sqk4wZtfvMvsW/7rb06maLLIJY+vHq/A3\n",
              "5/HVEn4g68etF0cW9yzTFsvKVUgc4Gkt8yZRbCcq7KZn6Yejyx8bkq6KraS/Hx5J2scoZ2wqKtPu\n",
              "gabU4VKxbcOPhlwcqsYPDF5y4we2WPDs85PevVpp/F/UoHHdVA4zru/oaeBo+koWZlF3A/TeG+N7\n",
              "endHCn/R2sQ82wO2Ts4yT4QKNOrOmduIaASm6gFCw2gjP8b7uxIAFRxPvHRozQC2UvhlQOHWvpKc\n",
              "xwVxCPXuWRBAzDqJFrx7rDsj27B2GS2iuDSwmSxr14RNitGOCHaYk9Co7fEg0HtYJFwD1J42NI7R\n",
              "1wuzR0jGUf0oaFCrGagpgEOFrLf7umKgxAgzn1oUDktilQG09DER0OOLJpyv8zn2j7TGK02iLzVg\n",
              "gmB91TEaC8mzNP2SeBisVecicS+EuUw64wjXUyyJ8YcT9PRwDWhkqYAAAAAvQZ9xRRE8Kf8CDWB4\n",
              "SAAC3gAg3IiuRpPIJdj/NThlZLwsKNHmbwqCbGt+gLJMqoEAAAAeAZ+SakLfAOpeoAAXy5ks8ncz\n",
              "sXZVGVLnQGa0/DhgAAABlUGblUmoQWiZTBTyfwAAAwAAAwBOf9hMpvoQ+xeYPmgIAvyoiYTNoDgJ\n",
              "gfYJtt0kRRjHI6YuPofqB6rkLepeixNoeK6RsxeChl6xxIVN6tpRfSFZjqBX6jIO0mp9PUe+vYUv\n",
              "1DmjZCgaIA/VaEE7ILY14WyK1BTug+1966GMgdrxOX46dOf0Tn17WPRvA6rBP07CXknHuW4yAN1a\n",
              "h4RamwhPZh5QHdtAI0peI97jqOePFCnYLZxpOmqBXgZ69IDeiJd/9WhO060HfGeAuzT3ecJyUU/I\n",
              "l7D4Z0wEYdbN6VaeR4AAYi/G4JsgSqa7RumJrsBK/nClFW/L5DwWDePWg9FeBvRGL0etd+UBGbf8\n",
              "bXARf/cANlu/J6XUZcV2QA0CkDfJHwn0tzhfOb1PModAFONMGxy9afikkw1Vgk5V4LO9B3I93Yg2\n",
              "WSj+JjRyUIFIUU7M1gvGNnKYU/yhjTQNFb6I6FCn293ndkevkaii69Q6dSazLQfudyPhlDqdHl5b\n",
              "hs4X4CwPmhjuV3cOir5vwQ2fXDxwHQAAADABn7RqQt8CHXfEJAAEFjVgKcvR5yvghrE7VQ7OKuNB\n",
              "S/ObgJToY6FmMeeFaCHa1VEAAAGjQZu2SeEKUmUwJP8AAAMAAE55Y1EXb+MEJueyj5g0Sz6Hkvtf\n",
              "XbZtX5XMST4C7Zp+Aqj372OezOd6iSpPFM4rpG959Po87L98qy0Hmz6in9Ie+toz8UzqH5b3qlIP\n",
              "7zhZKwA9A0JaQU3V1xDKgnmVyTKv0fwf2PqUhfHJdWqOMYFRdBlvX3erumCAgC8sNg1dooilhnMn\n",
              "CCzXc/phzRcubGPCuBqqDFsnDmQGMx+iGYL7Ic/fC6dzUTvFPO4hWX86I1pjhBJNCjo+oNX55zrf\n",
              "0hB0so7B7vZK+6qzIw7M7MZe64OX7E/fCPoBDEAqfJv0aWnhqxLkgW/5uvp4NThhVTNstPzxFbng\n",
              "fdxQlRi/Jn9FgySAbIFCUB0EBQRkWoOBxDBOq8zNude1xdsenTA6jrZ4jIwfudXuuGhR5SU+RqT8\n",
              "o8mWDN1NE2JgI3zmktaIclR3ExFsinXVaBSeJvb7lviodj4/a1JM5nEp++LqELp21Z/U1Bbjv0ZA\n",
              "OCWMTRETUUD/pW57A1+Fj07QP/c1dvGJU8seLet5kmy4AHKCj+1km8AAAABGQZvYSeEOiZTBTRMn\n",
              "AAADAABNktvLdmOK6FUoPVmOHd9PN4vsKZ5tL5Bh2vPA+Ug6UCcrx8DwX6tmwljRANB+WW9yjDqO\n",
              "lwAAACcBn/dqQt8CHXfEJAP3nPK4nHGAq/UVJps6iC1CD5kIOMp+5jd+JIEAAAA7QZv5SeEPJlMC\n",
              "TwAAAwAATZLbzUxra5UOxOz7nrfY6KJg3GYai2OoBUxIGDeBAZVeq9k6usezoi7HpsQAAAA6QZoa\n",
              "SeEPJlMCTwAAAwAATZLcGqGZWeP1BhlZOgQ2hIv390EU8gno8e8mNUJzC0lcND3QqN3MTM8mxQAA\n",
              "ADZBmjtJ4Q8mUwJPAAADAABNktvLcgAFvAI5LQyZx56oJVa7xINc+i5u9nSsEQhCgz72KtRmISoA\n",
              "AAA2QZpcSeEPJlMCTwAAAwAATZLbzF3mNjfBH1eNJF2kHZvhin5hZ4g39h/0qGLRYaQxiAkHuNiB\n",
              "AAABiUGafUnhDyZTAk8AAAMAAAMATUm1+qk4wZtfvMvsW/7rb06zqIU6TRwdMlZgb8/jqiT8QdeP\n",
              "Wi6OLe5Zpi2XlKqQOcDSW+ZMothOV+3CAnNqQ/LHxuSroqtpMCAyXnQ19AW2FRVp90DTanCpWLbh\n",
              "x8MuDlVjCM8wHwJUiUkiERQUDyCe3gWTyPOW6Jx9NQNqofo47rM1LAoe9bVANIcnxRNg+Lz/hsDM\n",
              "MJcJo48d7FhiPpWqkuzjJPhApBS44Z24yqRgvUXaFiYBHfK4j+tgsXz0P4CosPfDmYFspfDKgcT3\n",
              "cOU+3rNBLfYSWKFJXsmCdiAnO7bN23YOw8CuQSp60w+NevCI+oKrziAfUjH7yQJE1QR5Ow+LxC+h\n",
              "aMRhULbXZpVRi6p39CVR8O4Ao7D6S1lqd3ZFPDvTAjE10DktilQG09DER2Vkm6uSm0zhH4KGe5+7\n",
              "L+N42NNbA+6piNBfHqzoaiqHI1e7aBxR4SzUrVCXz17HInxhxP08sgNl0AEkeS5BIds/K7CVgQAA\n",
              "AYVBmoFJ4Q8mUwJPAAADAAADAFv8nGgUf4KhCrsLl9OiqdZR7HC8qBiz5UgT6/qSrJm8Yb0Ff+WH\n",
              "4g+WxFx93/nGiL/O8UHtmHj6oj0X2BQrRN+UxIlkhQjo91gMXcEiBKPSGvMe80421StJFUUuEeQ2\n",
              "qHMqedNclaGOP3wzVA4t2OlPFlHGUvyR+inSajNGI9d+q66+W5y0+T4oWqkPWGp4tldMgOcmzkaM\n",
              "JEBm8yZ1HUAPae2AUOvMObViAEM6yUZ9DA9UudzrS82Bi1ICqXnBZiu3gaAHzB+k5EgFaBZq9d3H\n",
              "oEBXUzCUTZ7k2EmqMUlU6y7ag5hu4SYWmECze2ddo9ZbfgJ7qy5vu3FM+V4aAUkvgZ940jOQLux6\n",
              "ExdhKqtCTxC88VavLZQ1MkKX5EqeWx5Ry/gj1K0lzVjrPxLgNlx4crg/h5n57Qev9CcO9mMjwPoy\n",
              "6ysfjGrm1LAPOUDBOjdm7ygoLJOovO+422GzmI7o72ppwRocjonNx6zgmAAFiTe2eAAAAEZBnr9F\n",
              "ETwl/wHm829kAAOY/zI2+WRnx1x5LnYEa5WfYgAXYYrfFT8ZmJ4QbsGN8YvOf3n5/u5Cuc1c7pV2\n",
              "1nB8H4m1AMmAAAAAIgGe3nRC3wDsjxgANIeo/ztRwgP8zcJcWNA0R1U8f7id8LkAAAAjAZ7AakLf\n",
              "AOpeoAA3xs88yGPg1no8ucRZF1ZElgSREAGXLJAAAAGPQZrCSahBaJlMCT8AAAMAAGq3zf3vfxgh\n",
              "Nz2UdHGL1wIyS4UZRKm9Z5skKrG5kkltVWpbrukDR+kN0Bua1qgibmaT+jl3hUj9rxcYgGUmuG6Q\n",
              "WI/jiIpv4xarqmQjyDatbwPXpIqipqDY6q8ppR9STYtNJbO20neWhf/rgek+1d3Hxxk31229yrcM\n",
              "vHIkeCJGMZVXq6QtEPU8Lxk5gcXiw5ljgoa+VNKDqysN3Fh1thXoz5qwbPIZO64TIfJfs5yRpq+N\n",
              "v+DmSh70JnNp/0o2Q+VavWL6XlveEc8nENBLC2jlEzSDkvZaILxLvHsOP7+VbjDwWTFAmb/Lrt2M\n",
              "Hulu1UmKyC2/oSzlP/8USvO8FIZrZ/iywxZHLmjKi90B+Fl4yi14LjryuAhZuJ0I8S0LjcDaJIbH\n",
              "VN0opI+fIL8hPbavt6C/z8p4FyyCZeVMinKxMZMZzJ/xIAhfUf90ZYT3frFQ/qdw7/sP6yRLXR7H\n",
              "1vkQkqxrxiMhvv91GIuAI/k7Dtl0MfU1MW0Qm1O+00fxAAAAP0Ga40nhClJlMCT/AAADAABtP8p0\n",
              "lqd+tGrUV+naK6HesmpQeSKsFEsWhUtqAPqeYoEjxu8HnB//XuzZtWyHwAAAAEFBmwRJ4Q6JlMCT\n",
              "/wAAAwAAaYzOzeQBVgw3A7vSYdzfTDAmEV7xGFjZd/6M7u1mNi16Ohyhjw5xHu+4ew/9nGUL/QAA\n",
              "Ag9BmyhJ4Q8mUwJPAAADADqeBHCFQ+l9CSCzenfOedZrlCUeMAoG+JuNbE1pIzwWw/Fb5Plymd6m\n",
              "EZbDpKyud2zzL5ZQ79Cx+Zt1FPxgjjR4pNVSIDuiAfUjyAkoY/3r5UmlgHUEo3+aYn50KvZ9jNrR\n",
              "pPsVvKZKX/g4RN+WPFBFz1Ps5Fje+VJNezmFIJ1I3V16cI3ErixGf9fO1c5Dl+SlCFV6WWJD8/H4\n",
              "LFKu+7qvJkqaPz1Pg7r0XHh7qpb2L5Ho03av8Zann/5VMBSIxTsCaEQSM/boTIJM8vb+cBkV4ZTw\n",
              "CKHk+b18sTL+C/Js0lkKPj24cpEDslDBmWm4JGF23K22+WXe/ak1vk09BiyupO4tfzRgl6OsLCor\n",
              "muCxRkp8eH44HcQxM6w87zwMjiea3zTxK2DVShdqO96hvtB7+5+FyX8sUlgd2yTrZXbUQHybHjGB\n",
              "UDn9RlrF81tJA6Tvc1+h33zLVeWTE7MuqwLEnMczRSTONIwsMnwpiUItJ8Fu248sFaQWFRcSqky4\n",
              "kPFDaMm2yovppV7uDwW20H4kRWJ6Dv5HwGFrkz4RBAbihTqklQODy41+QjhE1zW+QTWSN0YM2oSJ\n",
              "xcKDR/P3YscOMZU7uPiJn3aUudH2h3I89XZXgpjqmxI9sys1l83RQkfrJeL5CiXvnkwlJjjA0xlY\n",
              "2Kxn105M+KRhvQTvA5gruQAAAC5Bn0ZFETwl/wHm829mck5wzKaobaA3P6b6U7dVj4HzOI09bykk\n",
              "RHYyaN6u3sxZAAAAJAGfZXRC3wDsjyfs78AJn8stCxX7QiwYNvAHmmzusXmTVeytgQAAAB0Bn2dq\n",
              "Qt8A6l6xa9RYITW5pefPBwldw9VqEZDugAAAAGlBm2xJqEFomUwJPwAAAwA7/+U6Lkv9wExAM/gP\n",
              "DcoJCJp1Pz5MF0yDOXb0vHzLpqmn1JZrdlSs9ijY6GGvHMSEckYNqTE1gTUIQHoNlNmW84/dRw1s\n",
              "g9Ug3xIrZEy5Fy81Zfid/W/cK7gAAAAqQZ+KRREsJf8B5vNvZmiHt0lNJkHA/goe6sCqxoGbdhI/\n",
              "gBp3vO+M1brRAAAAGQGfqXRC3wDsjyfBem8vN65fSG0AJjBQOmAAAAAdAZ+rakLfAOpesRhDDDGz\n",
              "raJP4kTKgzWeHhLAgYAAAAA1QZuvSahBbJlMCT8AAAMAOeuDGO/QJcLSE86MUEjA19GAAzMURvrt\n",
              "HQBddi7x5g35/aYFUEEAAAApQZ/NRRUsKf8CDWB4SdiZv7gALU76wIH2oBkU/EW0Ne1lo0LyDKi9\n",
              "1UEAAAAhAZ/uakLfAOpesUs/QYsz6JapPZ4u791yJuHfZyn9sIWBAAAAN0Gb8kmoQWyZTAk/AAAD\n",
              "ADqf5TouWjloVs1JNJbiYsQ0Scljqlt1/YwsQAATpvrwF4xXiQ8wV3AAAAAkQZ4QRRUsKf8CDWB4\n",
              "SeWWBASAKUrnR11qcOvjh3xnhfY1oR4QAAAAEQGeMWpC3wDqXrFGgAO4RAG9AAABg0GaM0moQWyZ\n",
              "TAk/AAADAABqv8uQYDXgEffQMs7cOtah+oXJA1fnA/ixsugI+X06Kp1lHscLyoGLPlSBPr53z2Io\n",
              "Eh7EFf+WH4g+WxFx93/nGiL/O8UHtmHj6oj0X16aCTez817sgoR0e6wGCad9LcCFnm73hJU+VlaS\n",
              "KopcI8rt2kFSdKzkGJCbOoj92kQijppgrcAm3dGI9eU6TpH0GS/8nebMRZesN1zpgkZAc5NnIYFI\n",
              "+hJ9EGOsxvrqKE4OrC9cM7we2W/F4jGUES8dFoh7co7GQFUvyCKQxfKydziQCtAs1eu7j2vo1qbX\n",
              "LBs9ycG5EN4VU6y7ag5hu4SYWl6aPGaX25jCtvwE91Zc33bimd8X2YgIAFSM5Au7HoTF2EsM2TSs\n",
              "udD+91LHQ1fuNbSoE8tjyjl/BHqVpLncq6IwXgbLjw5XB/DzPz2g+F+VriFY7rCvSPMHOGmmrm0F\n",
              "qYY13w6zS1PygoLJOovO+4223HwVistYQj61cLR0Tm4X1sRR2AAAADNBmlRJ4QpSZTAk/wAAAwAA\n",
              "aYzOzeQBVQAAVAWwi0v5NAH70Z31Xvle+gGK5U0rQa5rJgwAAAGcQZp1SeEOiZTAk/8AAAMAOp4E\n",
              "cIVD4lRgcrzgmb893X2uM+zoSL5LBK880MPBttHrmUrnSixxxAnO2vzfv447FmNNBlGFa5ATurhB\n",
              "uXsG0QAxJaERSe6BkFmmBJdl+WpDZV+JY4kyhsK5GmBuwVlqEt8c9ccalvDsdcmwYS1fF4pEpQYz\n",
              "ai4hbPEFJoeA1r9hs1CnTQE8mHvYfPVwzVS989Au1Ms3dMBr+Kq1zL3+5uX8B98Y5UZWuSpBdSId\n",
              "bQhcJmFcnT7Tvx9J0y3qsT7V6DogtXyWaPbDUpteQIfP9YgQ3rSpObLltndW/nxxTmwHazpXdVJ+\n",
              "HxvEEQ6/sMGP8hD6AOyc2IP9k/tjJShEz7nE+tdpkZujYN52t0vYdO9XpIZQqFQNTGLiqS8KuGcT\n",
              "2bpozXsPsKpCW34jad810NY56PV39IEJz4u3X5XhPvWIhIQXyIuz4EOFlz86XzyBB5cJVbhmuH8o\n",
              "9ivhXB7kieV2nM/gPbri5jdLxdjpSF8qxVN/ZxfseBJdJNoVjXwuiWGwoAFXfQi+noKoIQAAAepB\n",
              "mplJ4Q8mUwJPAAAgPoAZvcohVfkIzvgrpS2GzozUyMc+iVrvRw7oljVN5gpEnUOGWP8QcqTQRrhq\n",
              "ZgsYT+PhyCd+2jV30jthzeTKXPD+CV36HrnyfvpdsPBnaZmFEsPhQwVEb0upA/3nODJL0er8SWiV\n",
              "9ao1/TtAdaipRB//4GRkkqpnm9SWM5u5VTBe5HwRSDct7E1KCCqyk6z/CRHhUZ7t9ggF3a+jdBZW\n",
              "+FUJPsEbzwUEn5PxBMR/crjFtNVjaj3r61a8ytDXt4ZQGk9XtfpxiR0XwCOExC/2yby/nOzOk6NA\n",
              "u82D2pzEGbEtb09i5N2sk6f+C5guHT3jGvqvs4hcOeM+eXYClUAxR3ZX16eFLN0rikLIpZLYv85G\n",
              "vZYacZtSbdVyhob1KTxxAIl5md9UerX4vOlncnv8KxDojh9HwB0vgoGnvFfk4Dnec6mNzvIaKGGr\n",
              "EGdBEmQvL/NDfyM6fwXGTox1ujZeZeGm1wccBdeLi6VwGG1poI/iBvYFarpUYhehjavTcJRQglbA\n",
              "q02njh0/d/TEaxiplz+bRoyrYxqS/t3gHdxHHRQUXNDt1PnobyFC1CZJ1S1tVcEIBnKsE6nTGBXq\n",
              "M4zAH+oj7JgYE3NIfy4MA5UdLx2jM3dAVT8J/jcmADqgAAAAJEGet0URPCX/AebzcLIAEMzfVrmC\n",
              "HDWYquLuhekmpvcAXMqi4QAAAB0BntZ0Qt8A7JiAHXa57ugkDOQnoDRL0mM976AGVQAAABQBnthq\n",
              "Qt8A6mJWTkODsEMKAAAbMAAAAEZBmtxJqEFomUwJPwAAID/sJ8kuneRtjXGHVb4SrBmbnQk+5OJG\n",
              "y10p1gQDrMTVT+DUgWQB9WCKTxzQeNuN1/3ZUY/5QAtpAAAAI0Ge+kURLCn/Ag1geUvrfKcaP3Lt\n",
              "cQsS3Z2/vppQX8AFPTh4AAAAHgGfG2pC3wDqaQFGmVgVdvGQJdCoerKVt0WZMAB4QQAAADNBmx5J\n",
              "qEFsmUwUTJ8AAB/IYfpeQNdgIeG38hm1PKL6BZkIDU8/w65yWnkbzlfu807gCkkAAAAhAZ89akLf\n",
              "Ah13xcSNGvNBOYm9/3tJSgKoBWATYEGS8u6AAAABi0GbIEnhClJlMFLJ/wAfPAhoFH+CoQq7C5fT\n",
              "oqnWUexwvKgYs+VIE+v6kqyZvGG9BX/lh+IPlsRawEHU40Rf53ig9sw8fVEei+wKFaJvymJEs5Kk\n",
              "iPrsFC7gkQJR6Q15j3mnG2p/m2qllwjyG1Q5lTzprkrQxx++DHFfJrFXTtL+NVNEpADNyX6rrr5b\n",
              "nLT5PihaqQ9Yani2Y09AoefDUK0YSIDN8s8Sdck6/rUyiPBW+TDTWjNqxACGdZKNFyySn3dprbWl\n",
              "50gyz+XVc+Cy/8TonQVKyB6kCUVnxo9AgK6mYSibPcn5oo5NYz62UE0srhFvhCZGEZ056tLNL3p6\n",
              "ZbiO8Zqy67wDFM+V5Ppe5z8+gZjNss+4FYSqrQk8QvPFWry2UNhyTMEMQVqR444/Be2Fp0hq8vJL\n",
              "XAbLjw5XB/DzPz2g5/q+2TfSrA8E7q6x+MaubUjPbLTbpu4G/joZfGNB9V7Hm7bFaQ7o72ppwRoc\n",
              "jonNx6zgvq+IRABBEpThnA4AHwb1mwtAAD1gAAAALAGfX2pC3z6cBurxsJmRQFciJ8w+hLRzkatq\n",
              "CqjF9feCEuc3BtjAAAAmjJQRAAABg0GbQUnhDomUwJP/ACGX6qHGuZnYvGWs4wZtfvMvsW/7rb06\n",
              "x2apcejkSJxpYG/P46ok/EHXj1ouji3uWaYtl5SqkDnA0lvmTKLYTlhm7wFVTSH5Y+NyVdFVtJgP\n",
              "cZOSEKSArYVFWn3QNNqcKlYtuHHwy4OVWMHYERMwJe36nu0PlRx4az9ms6Tqeaafxf1KBx3VQOM6\n",
              "7v6GngaPpKFmZsty38N8b29O6NajGHXWIebXVqhhxknwgUadWdM7cQ0AlN1AKFhtBGf433i8K1g0\n",
              "istsr6U24Wyl8MqBw619JTmOCuIR69yx2jtwY3O2nNff2yPbsHYZLaK4NLCZLGvXhEfYNhHVpFDE\n",
              "EUmoWJBoPawSLgHqTxsaLCoW2u8wr/Y5E76A/Z28Am1znOFrLf7umKe6LBCMx00DktilQG09DER0\n",
              "OOLJpyv8j34cOpSW22iLzVggmB91TEaC8mzNP2SeBisVecicS+EuUw64wkw6FkT4w4n6ejgGrlzC\n",
              "tcRUwLKAAAD7gAAAAZNBm2VJ4Q8mUwJPABOeAvQGO2goQ1ctF+VETCZtAcBMD7BNtukiKMY5HTFx\n",
              "9D9QPVchb1L0WJtDxXSNmMi5OeF+bAFTeraUX0hWY6gV+oyDtJqgEI5lfkVC/UOaNkKBogD9VoQT\n",
              "sgtjXhbIrUFO9Ne7LYSGMgdrxOX46dOf0Tn17WOpDYkBc5XhVsPJOPctxkAbq1Dwi1NhCezDygO7\n",
              "aARpS8R75MvPOJzG56LZxpOmqBXgZ69IDeig25Fj/gHK0HfGeAuzT3ecJyUU/Il7D4Z0wEYdbN6V\n",
              "aeR4AAFwtK0m72WrYoON0xNdgJX84Uoq35fF+xi9x60G64g2+YabI/OWm0EZt/xtcBF/9wA2W78n\n",
              "pdRlxXZABrTwG+SPhPzxW5fOb1PModAFONMGxy9afikkw1VTwD9YLO9B3I93Yg2WSj+JjRyUIFIU\n",
              "U7M1gvGNnJ3s/ypEFx3ogK1PXf9i93ndkevkaii69Q6dSazLQfudyPhkuqdHl5bhs4X4CwPmhjuV\n",
              "3cOir5vwQ2fRwFsPeAAAAwNDAAAAP0Gfg0URPCX/NJMUwApAtMpMoTgXiiGlc7jXYpQVqOo6UKEh\n",
              "9gWhLFWaLx7K2SasUaAC0o5ndtlgAAADAlZPIwAAACQBn6J0Qt9r/dltIB6mQH5vx6Kq6TZtx+xa\n",
              "oGYIX40AAAMAB80AAAAfAZ+kakLfaj6tQgODR5wKTMffdgN1lOhw2bKAAAAFtQAAAY1Bm6ZJqEFo\n",
              "mUwJPwANry3eyXO07DCPX+eygUnA5fOcj0LmvS/mtdTgHUtzZ11jR3O8eDYJqxS7hKh8rU2d4OyR\n",
              "mSvpD96BJi4Jt9qBLRoZDSfYGsXZVkbj/anS77KG0tgS1HBx5eRF4xTj3P/ktnXIO15hx9RV+5Ep\n",
              "aC5W89rxp4CjKiyesElKbPHWYuVEXp0TjapV+wnph9+PgePyfLXF17kma5lYQzRAk9j1cN5xXsLn\n",
              "nJ0pvpv5U6kD45Nzp0jeSApi4ZCJbGWRsV2NfKT4G4dz/v4mAAAdsQh2denV3PhJvTMogSgpV0VI\n",
              "5PxiQ2yLoqS9IiV0PWHldG1DoqfufAHHym/4iJleACFbJjEbuZzHguoKTu2a5+VUCirV7i/I116X\n",
              "nw0/ZbVJRO56MdokQRUBCGp1hf2oUn23Bf4qVny9atKqajg3cn6AqdNDTD0gY8yUDwQUy8uuUmZP\n",
              "FzQJ7u1hb408c8Zlrlw7Z2GD4PAa65uGQB+3aV/ocR98k46xH8E6YcuMAAADAOqBAAAAQEGbx0nh\n",
              "ClJlMCT/AA3khuQpQBxDcAIVfjFX4LZvZSfmHlpchMrDTbf4FHOtsxCH4lhVFInx02zrEW3twAAA\n",
              "VMEAAAF8QZvoSeEOiZTAk/8AE2p1+qk4wZtfvMvsW/7rb06zqIU6TRwdMlZgb8/jqiT8QdePWi6O\n",
              "Le5Zpi2XlKqQOcB8+6mTKTR7TPtwgJzakPyx8bkq8BXu6/T4oMl50NfQFthUVafdA1nVIj9i0Zd/\n",
              "cBbH3dG9lQ5yCuZ05gg2Z2Z43U800/i/qUDjuqgdD13f0dc6alYa7/ctKwP03hvje2d8lAUJCeZe\n",
              "19qZwbYp1E+ECjVQxKk4v8QUpxCp16WBIRhbffxkxhB5Nf+4hKITtuFspfDKgcUMDpkXPurie5s0\n",
              "sWqXrY+JFJQ91h2R7dg7XQbRXC04iJtWi7RKLPYd+F7P0k9Co7fEy0/BYHta83kY9AMjNsKSK/l/\n",
              "smid+tlXTRBDkXwxa1lv8ZiKeLumARrQoHJbFKgNp6GIjoccWS/1f7XvwMj1GK02iLzVggmB91TE\n",
              "aC9A/kRkBeDCrfuscUuhZp7LRunRFS5U8+MOJ+no4BkXrACXHEpwAAADAi4AAAGjQZoKSeEPJlMF\n",
              "ETyfABOf0cuAUgeQ0ImX2VQ1t5d2MV/4xpWWX/gIeof1Ngm51kabEZXTHpABNbWZvAZbssvGx+A7\n",
              "uME5/tdMjgWOCVuDBLXPf/yx/8BWhNlefaMDEXD/sVVx5oazZssGeIwvlmezrpdHN8euzc7PXoXD\n",
              "b2Tup1QoHOUWAIc/9fdtSUhv9sDWjHpuE4V+VSYIqly74HXEPXOXiM9a1zOOFNc98R3GR+6ObwXp\n",
              "bCOpS22zM6AfGF+O/u6/zOig73ingfVKwx6Qhw96OO9bUziswsKr8Zz4I+MRToVVaMrGEfcZlaqo\n",
              "HRw8Cvxk7jpABLJFllZzOZtpg7vrvGMalIamF3qPTSmRtNSadcItnldGNReapNQqMIgLo9ugNCL7\n",
              "tfXkDX1z0iqa9ntWS7Ph1TQ4QCsEqE4CbilbBV3sqCsWEr9kBFn8JihvAfMTVl3YtFVcNHsl/xvm\n",
              "Nt86/1o85wtrABOlWmmaMP0LUT3rEn3iQjNvc9NOzZz48IDoby9U7aHAWv5vO7Ysr/6rK7tHhNxc\n",
              "XtxJjWlqqcAALKAAAAAmAZ4pakLfNmAAmBwhFRHN+kQGRahLZeHo+5YVO0ezmB7UAAEOlO8AAABA\n",
              "QZorSeEPJlMCTwATn1RGnijil4jW6KVErXTA/3zIRdH4kIAFHEZiAs7axGaj/uUpD/eolKEpYqfg\n",
              "FoGUUAAD7gAAAY5Bmk1J4Q8mUwURPJ8AE54C9M6dkOHI+qK7KAlkzaA4CYH2CbbdJEUYVZ8tR2VA\n",
              "mwPVchb1L0WJtDxXSNmMfEueF+PAFTerabq8IVmOoFfqMg78BQAEcyvyOEDkKs9CD7YSCZ02nvSc\n",
              "4URTFMQsDqo/sGMJDGQO2fcVAEZG+im6InBtHkCfErRCBj8u/IyQvGQBurUPgnSJ+Iq3k9BXhdqY\n",
              "dvGb9QhHPHihTsFs2o8b5hS9EEGwIG2GZhJYhO/gTks9z27zhOSiYvuIZkjJGNpAWgcZuEI+AAB/\n",
              "h9w3GyBKprtG6YnRuX9eyA4Z9wqEIEOimKxCLRFWoDNdqYcoCKBZM2vcKfDiwG/Ymffa4jIhAFri\n",
              "fwp6vzqs/tTclFjmsZjdJbvg64np8pu4hAwoA5hUFBnWvuCqpm0Zq6G9zcbInQS9jORjPOhHCTJv\n",
              "7vuVPylljHVHqO64hiZEnelLwMFQKtn2V2V1fSLNU3T7X++ZY/OKFRnpoZRr4LG2nsf3JK+cBk16\n",
              "OmLltgAAAwBqwAAAAC0BnmxqQt82YADwSPgqyQj3hEh9tFH6rn3vIj/TMht8EsM2R+g8BWAAAIOR\n",
              "4sEAAAGLQZpwSeEPJlMCTwANrDT9NFdAMdXvJvoFJwOXznI9C5r0v5rXU4B1Lc2ddY0dzvHg2Cas\n",
              "Uu4SoiqA0zDjskZkr6Q/egSYuCbfagS0aGQ0n2BqQrq0dx/tm9EBeZtLYEtRwcnb/jkeF+YbnwpL\n",
              "t1yNSZYGKgdF3IlLQW9XG44NPB9BymT1crXWVywbggAYvTonG1Sr9hPTD78fA4sr2rbTc/zQAzKw\n",
              "QsG581j1cN5vIALhnJ0d7pZn/OED45Nzp0jeSApi4ZB6pz5i9Dsa+UnwNw7n/fxR8AAlkjI2denV\n",
              "3PhJvTMogSehqqVI5PxiQ2yLomS5TSV0PWHldG1Doqfue+XF/AIVhzHngBioemiN3M5jwXUFJ3YV\n",
              "b0qqBRVq9xfka69Lz4afsp4yvb7szHaJEEVAQhqdYX9oOOl5gb+KlZ8vWrSqmo5NC5+gKnTQ0w9I\n",
              "GPMlA8EBeaB6qJXd4uaBPd2sLfGnjnjMtcuHbOwwfB4DXXNwyAPx8SswdKZxknHWI/gokPEAQAAA\n",
              "GhEAAAAtQZ6ORRE8Kf8uk92YC5uIIeLswDYo/7Pm8Ik39hXBpYIz3p1j1omAAAAEDQY/AAAAGQGe\n",
              "r2pC3y+CJq4BAu7QIhbNs58hgAAABWwAAAGIQZqxSahBaJlMCT8ACyf3N8+pP9TfVbn/FjZdAR8v\n",
              "p0VTrKPY4XlQMWfKkCfX7gAWJRA3gvL/yw/EHy2IuPu/840Rf53ig9sw8fVEei+wKFaJtAh2bZAo\n",
              "R0e6wGLuCRAlHpDXSz7RcdrCtJFUUuEeQ2qHMqedNclaGOP3wV1nAv3jrRMiq2V9NMFbgE27oxHr\n",
              "v1XXXy3OWnyfFC1Uh6w1PFoyruB+m0Sop+ogM2npId5rKXm+BkTErl/VAgBDOslGO9jo56Oi0Q9u\n",
              "UdjICqXnBZaS97u1ZT6QnIkArQLNXru49AgK6mYSibPcnDwmmEUNOsu2oOYbuEmFphAs3tnXu4yL\n",
              "b8BPdWXN924pnyvBIoXcfAzdrH7OQLux6ExdhKqtCTxC88VavLZQ1+eKX5E/WK2PZRfwR6laS5qx\n",
              "1n4lwGy48OVwfw8z89oPqThOF+TK+4H0ZdZWPxjVzal2HnDwgnRuzd5QUFknUXnfcbbDZzEd0d7U\n",
              "04I0OR0Tm49ZwgpJsXqigAAADKgAAAA3QZrSSeEKUmUwJP8ACvz262P/TACe879hhDub5YYCTyHM\n",
              "pueQljg4Eq0mJkY1Tp9LXAAAAwAccQAAAXxBmvNJ4Q6JlMCT/wAK+1RxaJ65kcK2D0g4lGBRv0v8\n",
              "sAVOgfxYzPC/WEggS9+Q2Nl0JZAvI7uArfthtWzQRWR465PjAHW15quZZblkx0MjHqmh1dZahH9X\n",
              "8cIKP7iDgM1Dui0PNiDhbLrwwUcfjf0F2lungABnRuJ1a4Hq/sovZKcpUux2aZ3svh7mFWqnogCZ\n",
              "QnpFu4RL/9Jfgzl92/kZid1D+SSL2NPyEyYhbhd/JBR+sp8eJSxDt3cqzf/Z+YbgbJT+W8o7oCh4\n",
              "8/0rIFS+OhP6MzcczEF/nCJFXXJtS84wXtFIxHCAOGfa9LNh4HGYYUhltQOYbv573jHrC0qUeIHa\n",
              "VoubHh8bXiuNRjVXuA5qk7vDbu5dtIutGlZAA4jwZamzvDzLQqmFlmJaUEAnI9Npa25ZUUZ4pY8Q\n",
              "u20Zl+zRi8KQjkVtquJsRqgdedwbVj/4PX1eUpvOdvIfOiPnmm0bQfsPN5cif4Chk1wvPZQrO2Xv\n",
              "dE8MQAA7oAAAADNBmxVJ4Q8mUwURPJ8ACvrgvS8gUPEHzb+voQKIAJKFbV5dJRd/dp2oR8pp5jER\n",
              "NzQAARsAAAAhAZ80akLfJyAER6KldNyQ8PacHbdUj8CSXN/AAAGawM+BAAAAN0GbN0nhDyZTBTyf\n",
              "AAr7VHFonrmRwrYPSDiUYFG/S/y27utNFlNCYJFsbs2UxVMRGEm+sHQAAV8AAAAjAZ9WakLfJyAE\n",
              "R6KldNyQ8PacHiZLvTi5pBHwKahgAAIYzQsAAAAuQZtYSeEPJlMCTwAK+uC9LyBQ8QfMG8KrwBJh\n",
              "FCaZVeAo1Q0RPOZi8KjElgABHwAAAY9Bm3lJ4Q8mUwJPAA33KEIauWhIqAlkzaA4CYH2CbbdJEUY\n",
              "VZ8ox++X6geq5C3qXosTaHiukbMZIrI8L6WAKm9W0oXwhWY6gV+oyDvwFAVCzK/I3v1BVnoQfslz\n",
              "PUaY8Vs4URTFMQsDqrTRHXRh28LcBqowEZG+im6InEcvhHAjWyG6W0nr26BeMgDdWodoHX3L68um\n",
              "k2vhdqYdvGb9c5Kcyqlo7BbNgD0qT79Obh0N7xPnOjncJRQtB3xngKzYwb3CclFPQsMIWOwU9+HX\n",
              "gBKJxHGA1lS9jEikbIEqmu0bpicbt/17IDhn3Co4jPBvUf1EYAYseemxFpjTaCM2/42uAi8zRO+j\n",
              "Sb0vtcRkTgAuh6VVo3QD4mzhfOb1NiS08xukt3wdcT0+U3cQcLndRQl0Hwmz3diDZZKP4mKNzUwC\n",
              "XsZyMZ50I4ShpJDBj6aBorfRHQoU+3u87sj5+gwUr59ldldX0izVN0+1/ZCeU+8tw2cL8BYA67Ft\n",
              "Z2P7klfOAya9E8AIXqx5+QsyQAAAEvAAAAAxQZuaSeEPJlMCTwANrLRqvxAlwAHfcNqR3Bg98ik9\n",
              "YY+xQfGQHBT3MC5AlFAAAAMCkwAAAX9Bm71J4Q8mUwJPAAr64L00Y2MXBZnxY2XQEfL6dFU6yj2O\n",
              "F5UDFnypAn1/RZHpm8YdHiv/LD8QfLYi4+7/zjRF/neKD2zDx9UR6L69NBJx/eozLdihHR7rAYKO\n",
              "mE5Ae/tDe80425ujXNqKXCPK7c7W0LSbx6MSExMgvuRlYP/iN0s97CYK3AJt3RiPXlOk95axkrvE\n",
              "xmzjmX7a89YB+mQHOTZyGBSPoS33hJrmtG5vgZExMXhVvuufnW5zOv/3trnc60vNgYtSAqmCJ0U3\n",
              "ED/989vSciQCtAs1eu7j2vo14gDLZyC32VK5IVsU3MrYuWOCDBsMVKj5EiWI+Mi2/AT3VlzfduKa\n",
              "DOgQCJw02a/F+zkC7sehMXYSwzZNKy50pb5+Uu1VbG4vkSmvbHlHL+CPUrSXO5V0RgvA2XEJWBZ2\n",
              "ZpAjF3hBZ/p0MxkeB9GXWVj8YgAugq8xZPsE6N2bvKCgsk6i877jbbcfBWK2leiPrrcZvdaV5anB\n",
              "57GAAAA/wAAAAC1Bn9tFETwp/yYgBOM5J96ciCi29mmtLa4D29xBWHimMEeKhVaAAAADAPFqa0EA\n",
              "AAAaAZ/8akLfIJCxE25h6aO8/iAMOcAAAAMAF3EAAAF2QZv+SahBaJlMCT8ACU/7CfJLp3mJfTsP\n",
              "Ob0T6zQLvwpPF6tTQVapKURJHfQcORpXPcZikmFSPxGOIjzUcNOCDSLljQVjHMQT/xou56yeLoeB\n",
              "72PEOF4XutPxgdFuhZu1k+KYhOZtfyAJN1lVxsc4Y6TPEGjJ96XaopZjUz3+qokWzTpWLl/GWw4S\n",
              "MILTLSLjU9GWSAagdnaFc9yVhnQ5Ug67eqTQaj9ptF0RANf7wIjinoYOL7y68XWrlYNcuR/P2Gyj\n",
              "1b/Z6pzH5vIWKoKnfDd8nH40FK3p0sCKNtABiqywoGYYazg3GDv66r9Z13SUSoza2KRgUdDSpXF1\n",
              "rCkCyX9D3mEV1Q6FVwYE7WNIMSORbaV8vIJSgzIqCjgSj3rB2FXycc27UPZvCdWGIAsZuQgITiEj\n",
              "M1W/SWB0OOPBYCneCr2qX7gAA5BU+yYPqHfevGKnYLziL45xHhsc7Gl9pKtCpG1OtzvFCjPt+61O\n",
              "ElU4vgAAuIAAAAJ6QZoCSeEKUmUwJP8AABEf9hO9QBvQ7znR2lVvMYSi2T1UlY7YJL+nPEqVVogi\n",
              "eR1b/ns+3a0ScnS8qewJDSeVqQFeujzItyVf3RO2vHb0i1Fdip4z+VN6u8FVIgwLjkmSLV0MBNZ7\n",
              "qKJisVGjcaqkkJzXf9N9KiwdMSoLhNsgaPpfvltVut57NWm36oQV1CkSHMMeHvafFv9/jIJLRYvx\n",
              "Wgu3n7PLdYt00LOwC6fyx3qBAez/6FKRVWlvAnDm91as/OJqynB9+Jlbe2ASy/ymVgEkb9lwA2hN\n",
              "N9iv2+1q3bjUQYOEVeyUfrUjry89xXoiwoR7pLvX54xwXLvaF3OkNkOn4//YoByI1Mx0aI6rDVkp\n",
              "nkHDCIFLTNy2gO5QSQQK2pT3Wqk5QEpgAvqfMsxSLsg8PyM5WvHKfywXchSi7nfaa2eAzyzzJKya\n",
              "5WGZyHqovt/yj9Zfo6WZNMCZlA7K7iv22lBMryVhvgDJ882T+4WWdQ8A3a1VJ9kA4kWf6mFI8Ppy\n",
              "b3SjcfDaXYrWTPj0h8MZ1BMDxJxvWpZEg9TU2Jn6SI0MwwzNgdo2qw0Htl6GDHLcI6jbahIdfOe5\n",
              "RIjwzPzuKhsmLVJIlKU/ttDW1xVJBQYSeBRbQwanH+02+jRkDmYEugJiYRp/moyiKgrogwQtZwjB\n",
              "HekHDE0ZyCcAyYMimDhnaNYeU9IiEpYZXe/JtgnC4Mz3agwIX16rcifB7l+UarkeGVnZcOEqDHjy\n",
              "CTVryHpOSCNHTp8xHSLedR3yNf/zCdQi4QJA56n/PNhag4UQka8tkpwWHrqFhTHEUmBUenR774T2\n",
              "5omuyVen2ik9FwpDfqXXxIBJwAAAAC5BniBFNEwl/wHm83VPMplYL++f354r6O3kD2GhHAOxRw98\n",
              "4SqO746ymIB71CyhAAAAIgGeX3RC3wFmksDdPVY2WGjd6qrsOq/SRIj3iPl54moAGLAAAAAXAZ5B\n",
              "akLfAWopXfQAOpckQi8/SugAAm8AAAAXQZpGSahBaJlMCT8AAAMADUn8QJ8ABbQAAAAeQZ5kRREs\n",
              "Jf8B5vN1SnJc4CHT2fXElYtTDgAhx4fBAAAAGQGeg3RC3wFmksDdADBU6hU/zB5Tv5MAAwMAAAAX\n",
              "AZ6FakLfAWopXfQAF/bcD+OwSagADjkAAAF4QZqJSahBbJlMCT8AABDSbX6tTQVapKURJHfQcORv\n",
              "hWWz0lFvWF/i1zvrVI7WijSLljQVjHMQT/xou56yeZuEF9HCHIRTfXutPxgdFuhcjZdk3WZk5m1/\n",
              "IAk3WVXGxzhjpM+rcm5+CilmNTPf6qiRbNOlYuX8ZbDhIwgtMtIuNT1+ZIBqB2doVz3K8KbCE5fG\n",
              "J5tpNBqP2m0XREA1/vAiOKehg4vvLrxddmQERMeLwfsNlHq3+z1TmPzeQsVQVPNBZnucXxoKVvTp\n",
              "YEUbaHMDVbxWearVXbm1Nywk3/Z13SUSoza2KRgb4ByzPo9dRpAsl/Q95hFdUOhVcGBO1jSDEk63\n",
              "OLpnf73oT2KX7cbxXwCSuPu3s/btQ9m8J1YYgCxm5CAhOISMzVb9JYHQ448FgKgtoxLL37gAA5BU\n",
              "+yYPqHfevGKnYLziL45xGZEVN18m0lWhUjanW53ihRn2/danCSqceYrDyEAt7uy9gTu6LfjCI13D\n",
              "NTgE3QAAAChBnqdFFSwp/wINYHz0NM9Kc61S9GHJYyaZThWTeMffYDtEDgAC3JYsAAAAIwGeyGpC\n",
              "3wFqKV30H6KVP+OVnmqoHu8hURM+ccBV6zd2AAf4AAABhEGazEmoQWyZTAk/AAlPoA0Cj/BUIVdh\n",
              "cvp0VTrKPY4XlQMWfKkCfX9SVZM3jDegr/yw/EHy2IuPu/840Rf53ig9sw8fVEei+wKFaJvymJEs\n",
              "kKEdHusBi7gkQJR6Q15j3mnG2qVpIqilwjyG1Q5lTzprkrQxx++DlcjUHdyR+inSajNGI9d+q66+\n",
              "W5y0+T4oWqkPWGp4tmNPQKHnKa6MJEBm+WZ2EqaXkntgFDrzDm1YgBDOslGhqA0Yu3RaIe3KOxkB\n",
              "VLzgswMBjU9JyJAK0CzV67uPQICupmEomz3J8Sng13Xhp1l21BzDdwkwtMIFm9s6xdbjt+AnurLm\n",
              "+7cUz5XlDvAeOiIzkC7sehMXYSqrQk8QvPFWry2UNqsDW0p/B7Y8o5fwR6laS5qx1n4lwGy48OVw\n",
              "fw8z89oOkFAE8SZjI8D6MusrH4xq5tSPsxZKMDrNLU/KCgsk6i877jbYbOYjujvamnBGhyOic3Hr\n",
              "OC+r42H7Qek7yTyP8TAugN7TBQAAaEEAAAAwQZ7qRRUsKf8gLEbPYxBvw7qxzdmoYv7nR0eKk+Qq\n",
              "Tdnh42qZj2NLsbmIAAAsUVggAAAAHgGfC2pC3yCUqCZmbb/3LawsXDCdPr4rAAADAADKgAAAAYpB\n",
              "mw1JqEFsmUwJPwALJ4EY6vdsmEquBy+c5HoXNel/Na6nAOpbmzrrGjud48GwTVil3CVEq/MvcaOy\n",
              "RmSvpD96BJi4Jt9qBLRoZDSfYGsXZVkbj/boeIC8zaWwJajg48vIi8Ypx7n/yWzrkHa81maB0G+C\n",
              "UtBcree1408BRlRZPWCSxwsjejXwNUy07Bskq/YT0w+/HwPH5Plri69yTNcysIZogSex6uG8nkAF\n",
              "wzk6U3038+ypA+OTc5ASi5AUxcMhEtjLI2K7GvlJ8DcO5/38bVskX+u5iSeLTq7nwk3pmUQJQUq6\n",
              "Kkcn4xIbZF0WFLqD/LdKvyujah0VP3PgDj5Tf8REy1xAxy2PTRG7mYRwXUFJ3bNc/KqBRVq9xfka\n",
              "69Lz4afs4WyvUfszHaJEEVAQhqdYX9qFJ9twX+KlZ8vWrSqmo4ZC5+dEE5GvgdIGPMlA8EFMvLrl\n",
              "JmTxc0Ce7tYW2NPHPGZa5cO2dhg+DwGuubhkAft2lf6HEffJOOsR/BL/YLo2GbAAAAatAAABf0Gb\n",
              "L0nhClJlMFFSyf8ACvrgvTCw/2qwc438cq8gs/XLKx3sEJqdf/qpOuVy0JBAl78hsbLoSyBeR3cB\n",
              "W/bDat2ApWqx1yfGAOtrzVcyy3LJjoZGPV147l9C9Qlfxwgo/uIOAzUO6LQ82IN87hXhgo4/G/oL\n",
              "tLdPAADOldjq1wPV/ZReyU5Spdjs0zvZfD3MKtVPRAEyhPSLdwiX/6SQrkrpyRoZrVJD+SSL2NPy\n",
              "EyYhbhd/JBR+sp8eJSxDt3cqzf/Z+azmbID+W8o7oCh48/0rIFS+OhP6MzcczEF/nCJFVKVUZxuj\n",
              "WMikYjhAHDPtelmw8DjMMKQ1WoHMN3897xj1haVKPEDtK0XNjw+NrxXGoxqr3Ac8v+Hmf3cu2kXW\n",
              "jSsgAcR4MtSl3h7IgmvoHN6UEAnI9Npa25ZUUZ4pY8Qu20Zl+zUZ8KLTcVtquJsRqgdedwbVj/4P\n",
              "X1eUpvOdvIfLCPnmBp9oP2Hm8uRP8BQya4XnsoVnbL3uidJ4AAz5AAAALQGfTmpC3ycuFHqHdqNY\n",
              "O4n0Qihgxf+pmHXe9Se9GHlJGDs9bdLaUYAAMyfZIQAAADdBm1BJ4Q6JlMCT/wAK+gVO8ZNxNe/B\n",
              "R4NG8yHNMNGR0OydLaxuPVTw/ehkA+901YoOGEP8AAEPAAAAN0GbcUnhDyZTAk8ACyf3N8+/68zf\n",
              "vK9qjIrQLsLLZ3PYnJ7rjfIM2JVQFQODqpRoKwUA8p4AAz4AAAAuQZuSSeEPJlMCTwAK+mwkxjmu\n",
              "NgUHQFlwAWAJlJHfVPCCjnsm+bNeWSB49AABXwAAAYJBm7NJ4Q8mUwJPAAr7VHFooL5Arb4XwVCF\n",
              "XYXL6dFU6yj2OF5UDFnypAn1/KYNQL/qLEFf+WH4g+WxFx93/nGiL/O8UHtmHj6oj0X2BQrRN0fS\n",
              "qUNihHR7rAYu4JECUekNd0wt9p+ncaSKopcI8htUOZU86a5K0McfvgnN1+CXh/7Ft+755fkEo80Y\n",
              "j136rrr5bnLT5PihaqQ9Yani2aN3A/TaJUU/UQGbzanpdoA9p7YBQ68w5tWIAQzrJRnJf721zuda\n",
              "XmwMWpAVS84LKoACSeCe3pORIBWgWavXdx6BAV1MwlE2e5NrS52FbFNzK2LljggwbDFOerSzS+sV\n",
              "se34Ce6sub7txTPleDAUne9H7Hv2cgXdj0Ji7CVVaEniF54q1eWyhqeQIvyJTXtjyjl/BHqVpLmr\n",
              "HWfiXAbLjw5XB/DzPz2g9f6E4dDMZHgfRl1lY/GNXNqWEecn2CdG7N3lBQWSdRed9xtsNnMR3R3t\n",
              "TTgjQ5HRObj1nB57LWfAAAAMqAAAADJBm9VJ4Q8mUwURPJ8ACvrgvTQagAioOZhhEub5YYCTyJW5\n",
              "AgJYYAlKXmGtCx1AAADjgAAAACABn/RqQt8nIAbMBXKCLNyhhMHXNLJh6cQ2gAAAL46Z8QAAAYhB\n",
              "m/ZJ4Q8mUwJPAA33KEIauWhIqAlkzaA4CYH2CbbdJEUYVZ8tR2VAmwPVchb1L0WJtDxXSNmMkVke\n",
              "F9LAFTerabq8IVmOoFfqMg78BQFQsyvyN79QVZ6EH2wkE8Y/+9JzhRFMUxCwOqtNEddGHbwtwn+V\n",
              "MDG/0U3RE4jmK8ohWGsM51Zk526BeMgDdWofBOkTk0PPJ6CvC7Uw7eM360Ok6EdLR2C2bUcmmQpP\n",
              "YT7YEDbElobWomx8CclnQ+3ecJyUTF9xDMkZIxtIC0DjNwhNciU9rzxzN72WrYoON0xOjcv69kBw\n",
              "z7hUApIdFLJzXswPT2gMthKXlARQLJm17hT+Gkc0aTel9riMicAcaxYZDDnuiQ/4FlBHgfJGzrbd\n",
              "8HXE9PlN3EHfFAG6KgoM619wVVM2jNXQ3uccE06CXsZyMZ50I4STe/dtyp+UssY6o9R3XEMTIk70\n",
              "pdV6lApY81e43b6RZqm6fa/ojLH5xPqM9NDKc9jA209j+5JXzgMmvRPAIUwgAAAG9AAAAXlBmhdJ\n",
              "4Q8mUwJPABNqdfqpOMGbX7zL7Fv+629Os6iFOk0cHTJWYG/P46ok/EHXj1ouji3uWaZKqylVIHOB\n",
              "pLe8QotjWV+3CAnNqQ/LEoA+XGoqto9gAyXnQ19AW2FRVsXPi1qcKmdNuiQd05vY5uoV+EqAIHAi\n",
              "CLsnkEmJx9NQYIbmtm79USM67v6GnHppwmFmaPlYH6bw4X5ZDOX4uruQkYj6X5wbYp1E+ECjXSE8\n",
              "dan4fxTdQChYbPPn+N9/V0xztZ64IM8vQGaAWyl8MqBxuwEZhc2CuIR69yt8GYs2lki1491h2R7d\n",
              "g7VM01XBpYTJY165CMgA7BurSKOT0Kjt8U2IICgkXAPUnjYlmFQttdmjpGPJDyHCfs7eATa5znC1\n",
              "lv93TFPPvTAnhKaByWxSoDaehiI5tdr6ZLr/J1+HBgOfuy/jeNjTWwPuqYjQXpaArUhPQYrFXnIn\n",
              "EvhLlMOuMIsPZZE+MOJ+no4BoyAAb+BkZAAAAwAd0QAAAYJBmjhJ4Q8mUwJPAB88CGgUf4KhCrsL\n",
              "l9OiqdZR7HC8qBiz5UgT6/qSrJm8Yb0Ff+WH4g+WxFx93/nGiL/O8UHtmHj6oj0X16aCTkJ5RmWS\n",
              "FCOj3WAwUdMJyA9/aGjciEQg6Nc2opcI8rtztbQtJvHoxITEyFJFHls1YNZ+u313tNMFbgE27oxH\n",
              "rynSe8tYyV3iYzZxzL9teesA9D0Ch5ymrApH0JcnQxjULjc3wMiYmLwq33XPzrc5oP8D1S53OtLz\n",
              "YGLUgKpgidGEDpo2hprovpORIBWgWavXdx7X0a8QBls5Bb61tDkKSqdZdtQcw3cJMLTbGwiRLEJ5\n",
              "ZbfgJ7qy5vu3FNBnQaAJ6odZN77tWCLD7btPzmYY6WI6Ut8/KXaovzgvkT2vABYksjQ/XqkaS3t2\n",
              "YLwNlxCVgWdmaQIxd4Emf6bYhhk5G+SFVY/GIALoKtMWPjPE7G6DP3xUUGXXWyXp8NRcFYraV6I+\n",
              "utxm91pXlqcEwAAkjNb3CkTAAAAW0QAAAEhBmllJ4Q8mUwJPAB3ao5cBvj2jmzVDAH2PQTCSI0rE\n",
              "+Pwf5hKjh6mCSd1AetAHL0FOPe2bTYWH7ADkhYVcIXaZGjV9QAAAFXAAAAA2QZp8SeEPJlMCTwAd\n",
              "1zzv0h4fcH/BCzkPc7oFueOHNmE4ftuqLTfszsTBbRvMgv4AAAMAACphAAAAKEGemkURPCn/PQ5t\n",
              "ooEMImJVnUdTiBYoaPFN8LCq8RTLNIAAADW7XhAAAAATAZ67akLfPcDzmbG4IAAAAwANqQAAADlB\n",
              "mr1JqEFomUwJPwAfP8pzqiBHgkphnOpfR/ATLZZkq2yiK3td+vO1zwjaW8dB/T9aMcMYAAADAVUA\n",
              "AAA3QZreSeEKUmUwJP8AHdhoi0xIOnxVCgNNzrgAA3pRzR6awgfSZiHNO+HqgWyk2Edvu3sAAAMC\n",
              "TgAAAXpBmv9J4Q6JlMCT/wAd1xH2EPF1g+dIBM+ITWaRgfbwzCNFVM2WVc9kBdzQVapKURJHfQcO\n",
              "Ropgy16DW9YX+LXO+tUjtaKNIuWNBWMcxBP/Gi7nrJ4qrx8NxchFN9e60/GB0W6FmnpMB+RQg2Nf\n",
              "yAJN1lVxsc4Y6TJ8ss7/JiFxZ2OhT54mEU6WsXL+MthwkYQWmWkXGp6Chh2e8ph3DqHAC2RlpB1Z\n",
              "yJNBqQGOhwklOa0uMHoiehg4vvLrxdUyrBy5i1YcrZUerf7PVxWxEc0KnCxIAb2QSXjQUrenSwIo\n",
              "20GuKrLEUzqtVdubU3LCTf9nXdLjJsMWIgZga0jSpXF2cB+Bal4F67SbqodCq4MCdrGkGJGucwwv\n",
              "p/vehPV6CjgSj3rByf/2pRzdqHs3hOzSRlMW4kICE4hIzNVv0lgdDjjwWAp4wri69+4AAOQVPsmD\n",
              "356iRCxU7BecRfHOI6wiput72kq0KkbU63O8UKOCWZzJeC+N8fAABQQAAAGeQZsCSeEPJlMCTwAH\n",
              "wX4k//8ojiidTi5GMKr/CQcEtgWZGkzmjrou/4FFgcrzgmb893X2uM+zoSL5LBK880MPBttHrmUq\n",
              "FcOGsqvGas9lZBA+kAYG3S9hWuQE7qhAkqNepQBiS0Iik9z6HU+jaEX/pRfvAq+2vObgpBhaMYHT\n",
              "wbLUJb456441LeHY65Ngwlmx3FVbEGM2ouIWzxhXxks+D6+NGcycSvFoX9lrR0M0vzrvoF2plm7p\n",
              "blpW6bYsvf7m5fwH3xjlRla5KkFxNi4NWMSLxXJ0+078eQLD3FiLvavQdEFq+EoOLUkNZTYcexkM\n",
              "lVRVVbhZZo/G1b+fHFObAdrOlfshr8urLMeFD50O1aiEOAOyc2IP9lDGd0B9Qg3OJ9a7TIzdGwZr\n",
              "id8GdM11pIZQqFQNTGLiqS8KRgFwFRuoalAfYVSEtvxG079N3oxz0erv8wITnxdu4bRbkWx6iQgs\n",
              "bEAk0xJxGQ+oE9kCDy4TAPUtwH8o9ivhXB76zWk2nM/gPcfFw8QAl2OlIXyThKpujwtY8CS6SbHl\n",
              "ACbhAAAAO0GfIEURPCn/Ak1gdH1yfymFOYEARxeyvIXW9O9AOlNifTpotu2qZuWmWCjXtEtxbiYP\n",
              "7JTaOgBciipgAAAAHgGfQWpC3wJYxxBgBxqLVFqVR736VZc6ZwPQ/AAR8QAAADtBm0NJqEFomUwJ\n",
              "PwAAH8276aXysIAMhsP6pWvMYZPybCiDiIEjdBdD3eIvkCI9U/wkEQPQBukjqQAxYAAAADxBm2RJ\n",
              "4QpSZTAk/wAHwX4k//8okRZF1VvLdUel9UU8+KkLzAcwMjjmY6EmWuxV7+JRBbCtu0G1Uh4gBi0A\n",
              "AAGTQZuFSeEOiZTAk/8AB8F+I4Ks+Z2NfEOBiyoVxHC0JDjpqAz61Bnd+3fxghNz2UdHFKno+nz3\n",
              "psyvvWebJCqxuZJJbVVqW67pA0fpDdAbmtaoIm4Prk6AXeFSP2vFxiAZSa4bpBYj+OIim/jFquqZ\n",
              "CPINq1vA9MGZeRRAgm1XlNKPqSbFppLZ22k7y0L/9cDVqZvaf+v0m+u23uVbhl45EjwRIxjKq9XS\n",
              "Foh6nheMnLGTnGqj/ULeCp1IZUbO6gJDWXUvRnzVg2eQwaVQuGEYnZgSe7Jn/6fljOzm25TRKe//\n",
              "r/vBEUbuy8t7wjnk4hoJYW0comEUgkKlYl8S7x7Dj+/lW4w8FkxQJm/y67djB7pbtVI5tU56EjjW\n",
              "Be5RK87wUhmtn+LLDFkcuaMqL3SiIirxlFrwXHXlcBAFRy1J7hYcbgbRJDY6pulFJJteZfkKY2N9\n",
              "vQX+flPAuWQTLypkU5WJjJmXcg9aUM31H/dGWE936xUP6ncPF2H/FQS10ex9b5EJKsa8YjIb7/dR\n",
              "iLgCP3jMWQAAAYdBm6ZJ4Q8mUwJPAAfRefhIAER/2Drx22Q+DSyfuxuEkgYBHuCcAQ3XLL+LGy6A\n",
              "j5fToqnWUexwvKgYs+VIE+vnFdYigSHvs9/5YfiD5bEXH3f+caIv87xQe2YePqiPRfYFCtEw3s18\n",
              "JQoR0e6wGLuCRAlHpDV1vhJU/YqoZFUUuEeQ2qHMqedNclaGOP3vLDpEIo6aYK3AJt3RiPXfquuv\n",
              "luctPk+KFqpD1hqeLTbTIDnJs5GjCRAZtkT2hfEwbqKE4OqyjNqxACGdZKMdcNJymfzrS82BxfmP\n",
              "oz0X+3cALiQR/4szTUtIha3cegQFdTNdRjGLff0mEfnfrzLtp2mG7hJhaYxNAezr1L+vb85PdWXO\n",
              "R5gwtOu7+QED4mVLFHXspai7CVVaEniF54q0IxhNqbfgWBfb0QXlHL+CPUrSc9WOs/EuBH3vdWzA\n",
              "uHmf0tB66ekFQGYyPA/+Pp/3aaavPFq4eclmCdG7N3lBQWSdRed9xtsNnMR3R3tYUTUVHXRObj1n\n",
              "BeQNAAAAO0GbyEnhDyZTBRE8nwAAAwAAaYzOzeQBVgw3A7vSYdzfTDAmEV7xGFjZd/6M7vxQmHl9\n",
              "Jc1GvpUmXSedAAAAIgGf52pC3wIdd8QkBafURR5WIqueQgDDNpBPWYBb5NzrkR8AAAA6QZvpSeEP\n",
              "JlMCbwAAAwAA0/6JDuA5lmpWr5+bjXVOyIfTR62h8cygTQmkPADXiEE2TyWwGxLxGCI/OAAAAYFB\n",
              "mgtJ4Q8mUwURPN8AAAMAAAMBif0SHcSh8fIQnvOofwvPvZu57KftBVDf9FCwdCrgOm2JMZR/mZRd\n",
              "7bYvaQ64e83X6ix4tYJjTFpH9pMsV/zJvHLR8pr284iFswLU5YQp7Ov+cT3sdMDDph0ri/bMtU5D\n",
              "7+CL+Qii9efo80BotZ0Vn/jdFROrDOHZ9nihw4SXzMEG5WgPLv7VwUnu+RNJVBYDBA3u7JmZQoxc\n",
              "XFLvF1iHm2PD3klGEQ76JymvRomwOfoWFjrz2ynzRCUbuu7oAloVuQIn/9cxoTn7QNkCnQGmyw+F\n",
              "a4j2INKx/V7vIqUO3SuHTtcWCpC1YSraGv1K+rL2ZXe0WWTBwXdFHTzH2nPuqYqjw856xhULbXbW\n",
              "vKwcYjGWJSjga4JqK2Pz/s6p4UUOiwQygQlCjgcCjuFCamqGgVPkKtz9Ofhs7mwA6TIsDi3eI/xa\n",
              "CbMkNd1yyma8PC7h5CGVSlyRIjZVei3d9phOeJaN4iCDbShWnQuF0UnBAAAAKgGeKmpC3wIdd8Qk\n",
              "BY5sYDLTuOgzzQl9aVOL4mP1felJPSUYdvtH19YyXAAAAcpBmi9J4Q8mUwIj/wAAAwAAAwEm/dWC\n",
              "GwmoBv86FCQ0/S3uPs+JgQvX+TVpqh39jrtLwkE5+O6/AI2qxzrqParUKjuoGkouNL9At9kmyR6Q\n",
              "xVZdLzrF1/NRtIh2sR16zKV6B5RpnEgWH3YBrGruqrEKCNyz1AigYT/iSkvhTiX1braO8sSPWuDo\n",
              "Fws9cn93g7+H90DOuiS/0PuPLQpf8wj+qq12eaTklTbBZStxI7HenOJs4f/7v5QlwQDnY4/uz50G\n",
              "nPha0EJW5HcebMCB7kEA0DnOeV1BMnoZNt+TjIu97s0Lnvd4Yjub7r4JbBUEn7tXOmWaQSKKdUlF\n",
              "9WvnnCkeXmWjywACCBqbSY1d/ycsMwWj8wlFLTSBSXVU+6JpmFZEBvTo9oMzZk22xEdgyvni1Gt7\n",
              "735WKlz8dNogU4AH2vE9j/7xyeGL77tXnsKGRAJuJGpNICug/wia0rw9lTc/VpwvMujRugNhcSsZ\n",
              "1ftlTrKmKchEzR5JGW4gZxGMQvSlyJcDdiWFLw9wYWseC/s4pIhdjK20GLg8fLgZhrXeFhVYIhmF\n",
              "7C7NvxvsRqdGvGw3V/9ksD0MukHNnSTKcneY9eRZ0zUXKRLnYAAAADZBnk1FETwl/wHm829kBGSd\n",
              "OUG/WzvWca1GYLKMxgk+a0hBhMA5NIOsWrgKjMxlUJeEsNEuMaEAAAAiAZ5sdELfAOyPGAAmiVEL\n",
              "JBikG85qqpL1Hdkni00WpVsTYQAAABoBnm5qQt8A6l6gACoWNgc+Q/ZjJqQJGkPxBwAAAalBmnFJ\n",
              "qEFomUwU8R8AAAMAASbm8JgnAMP4MlmVL0I+N8Xms8XCCd4gps1O4N+Mm0Z+JzAUVSbqT3IO5BDz\n",
              "D/tvFTn6je0KBEJJxJ22+4j91jXI/pa5c8whi5sp15TGq5IF4qoWkLsitTlo652uuIw2Q9XjE0xT\n",
              "/oD+P+fzgNfL5j9jMy/ksMrcwsPM0Mwq9vbkU8/0jTKFY7K8JXOgno6T/eOdGo1lXaimo6jlanEg\n",
              "faqHoZ7WlKJDgaNket2XgwtwGX3bhay6mkCn32EEQDhUAcuY/jYkXvlORvcBA8huwIz3zTwXjskQ\n",
              "/7tipHyS2RFc03YIuWI/wZObQlST5FuuX2KePKJMVMGNQfcn/Lhj9Amhu7muxo92a4QIPFKABVeP\n",
              "UfZlezhpC9hwr1+Grv8qYHTzKL6mvOC/mwJaEJXR5U7K+ssjskwRgzdZ5s8irfa+PGU2FLZyEV4m\n",
              "vAZYCS9b1NscV74vH/PsOpscxs9sHt5QvgdKmYgayJKmJCNLh+bO8lPOIXTBMpirdyHYEj5qEDpf\n",
              "wW2PaaJpjgAikF5Ns4RDCF4V4CDhwAAAACsBnpBqQt8CHXfEJAWJgUyDu5ALw6pEs9TbYjM9xgXb\n",
              "+Z/BMRIZsEcgMFqOAAAAQkGak0nhClJlMFLFfwAAAwACiljyNLGn0O9Y56wl6DLXEC1iLdLB1e2c\n",
              "+cun5WCwA+Q7sBod1rAAEODFLGEBnYbqxQAAACQBnrJqQt8CHXfEJAWObLoU9PWfIvDCHBklwH7L\n",
              "D3Cq/q+ZGtoAAAA9QZq0SeEOiZTAiv8AAAMAAopY9MbLm9EannJlK8wmHE6RFFYwXITWPXsl8xpA\n",
              "Cknb+4+akEKktHjZq2CO5QAAAZ5BmtVJ4Q8mUwIz/wAAAwADqfg9nsDSajOvRBdKu5/l2Svt3obh\n",
              "Br0+7XmZVMbZe7Xf2gvW8zuvjrcg38mSpZp/Qluk4CwJBfewnlL/Ar5K8j9s9UnEflwc7l5a9Xiq\n",
              "2q7HgfxxpgzCPN29Cb3vFTqxl6JvOMj2cp/Sx7bz5SibKW0bGMsa10qsLP7A6M6Xqjrb3olWf5XH\n",
              "ti+ylaGhtZAY09GiqpHp8Sw6vrdhwQX6z5/sEBY9kDoC7+nPzJUYbXx2bVj/4YdJycwiVJyL4cuD\n",
              "y7IkxPLc8xpHXdWGpm4iRvL/2vkjg/Gu163xLrksYU9UQbr8fIAHdhyGgsBk8W6KZ20ZozPT8ZP7\n",
              "hp3d3aKEzOpHzOGxgBO8vnD6FAUgdHfUtfA7KnVN0PYhxu8R4nzIwBo1vNtSGhVKRG5Hp06OhGtq\n",
              "qp0PdBr3eyTzFknrTmhLq019YRAi5DJR4TyajkmCkBRPG3+ZO0hbM9V3+muxKhhXHplcY+w9RfgK\n",
              "qE+9goMvCMuLC3Hg214E5qm6u0b1RvPu7XTTmkqgE7FUCBkAAAGbQZr2SeEPJlMCM/8AAAMAA6n3\n",
              "ipG6OaMZlFiAF0q7n+XZKA3A0io2QndkqT+NS0xFLbRyBYBoJBBP5Z+GU0nuj4KEfTIISwX8RfaZ\n",
              "AZd10h93vNNQmVmFUr9RlBY5MOIAarmwpHUdQuWMd4JZEq9xsQ70JsnzsJrbaCY96oCSGpP0iiWO\n",
              "M/VKOcAO8ZGjPHDYtVdpCAUxyW/eN5a1KQ702uTlYCSOrN4Zs9FPswRdesN8kFje8yEa7lN9GesL\n",
              "wsyAm8DMQ/YnkqTp+ziwriewgW2Kw+OwGD7i6rY+NAJ1T89dz4Hh3xrVXWuZZnqBcgAACVmyytWJ\n",
              "/QWD9Ax4XdNAMmnyCzMQQB+wMUCXpiwHuXcbgH7tjEbun+IDZgRGULPBddAESN0Aqy+nckVlVpEp\n",
              "53drmkP+AxaQXtLCr8Zi1T0unltbYxAQELbnCMecGcsnkpJmuL0waj0gi4W0Uy28H79K80SCJiRd\n",
              "tM40GT2RT6jrs5bQDrKObH9UQdc0h6BZulj6sKZI7AiIXGzVTbc/ywuI056AI7JINjPgAAAAQUGb\n",
              "F0nhDyZTAjv/AAADAAZ37VjIwjOzCxmq8LNExbm8Rpqx17p+NSTu7kwAzHd3EEYR4Z5ClHLhwebr\n",
              "ccwt/DVhAAABi0GbOUnhDyZTBRE8Jf8AAAMADz9b/6OJnsGGoO6kopUI9C8JGm3PSfjlA6fWza7n\n",
              "e1P/RpS9V8TwfyV+7CHmUq3dY0bsSlC9vgID3BOn6PP/L/CKIFO7sWCvVEU1g4rKkOiVYkKdOZsu\n",
              "HcGiPCQsCHg48c0NOUb6Wzv8vffCtLcQLcmMAfW1gZWSz30FDSKrxb37NJ3jFeAxZ5dMHKB9knkI\n",
              "vAaNNEK/3pPMYNuKfhLv0JBUC9OFm2/Z1wtfB8OCkoQAcMchhremQbMA6jcqEW+nSVrDSrrBoC+F\n",
              "DM2+xI2WB+oqTVDqi6v/4vtr5DoB+YVgzora4CIk2YqdemB7LzKwRFGqHHFNGQfOWGAWBq4qBrZV\n",
              "u1icD/R0BHB32/W2mjqi3b2Ln4eS7zg6wTQIdf1x1IEdfxqXXxrK09WC4ZlY3rOCCsuXNpq88XnY\n",
              "H+VeLv4xWX/Qp5daB+3sCGlpl2yR55074+H9tzGHpE5ZVQy31w+CI76Vm/o51zqzJYNY1FGYjKSL\n",
              "yo1ga0PBAAAANgGfWGpC3wIdd8QkBY5soeauWwmFi/TCd4ztept8Zg6AkZqW+9oLXv8njHNaExg2\n",
              "80tHYaYXYAAAAWVBm1pJ4Q8mUwIW/wAAAwADE7cblpKgpxaR0iNJnv8aC0Of77dXuiC6bavQql2v\n",
              "1aABtyb4ot1rUNzQu2eMsPap5u0AxtWM5CEI4ko5UkKOJ5jBHKbxSWKflN2NDqL3FqxZHcbSqy7l\n",
              "vKB+LlfhacVQw2zblhqfJeprGdN9DCj1uvrynryyoQ44k/9TJOpmlLgmuuKXREH06GCxSeaB68Xg\n",
              "cuxT69NqMYwHOoHt+9YRUoy6HceGS/x3DO1Y7lpPOz1jUfPeDu85Pd4AYkWhAptpL/HeaMzWgOFr\n",
              "7b5NDuVAYba/JlyyzG+YPxxH6k+5m/nnkTA+YrgkdsP5fwglPCSmsaV/QXkneDsjgM89Gk+xXntZ\n",
              "+NiuW1DdvdXj0Xc7kbHhYW5C4jCMC+gsNGHvufn49heEYJQcsK+W5xV/VCKQ4Lc/oWdeRQ3Y0G+X\n",
              "2OLnQOp9zUxSiMGIEe4NuDz2tz4fzyRMxYEAAAlAbW9vdgAAAGxtdmhkAAAAAAAAAAAAAAAAAAAD\n",
              "6AAAHkYAAQAAAQAAAAAAAAAAAAAAAAEAAAAAAAAAAAAAAAAAAAABAAAAAAAAAAAAAAAAAABAAAAA\n",
              "AAAAAAAAAAAAAAAAAAAAAAAAAAAAAAAAAAAAAgAACGp0cmFrAAAAXHRraGQAAAADAAAAAAAAAAAA\n",
              "AAABAAAAAAAAHkYAAAAAAAAAAAAAAAAAAAAAAAEAAAAAAAAAAAAAAAAAAAABAAAAAAAAAAAAAAAA\n",
              "AABAAAAAAfQAAAH0AAAAAAAkZWR0cwAAABxlbHN0AAAAAAAAAAEAAB5GAAAEAAABAAAAAAfibWRp\n",
              "YQAAACBtZGhkAAAAAAAAAAAAAAAAAAAoAAABNgBVxAAAAAAALWhkbHIAAAAAAAAAAHZpZGUAAAAA\n",
              "AAAAAAAAAABWaWRlb0hhbmRsZXIAAAAHjW1pbmYAAAAUdm1oZAAAAAEAAAAAAAAAAAAAACRkaW5m\n",
              "AAAAHGRyZWYAAAAAAAAAAQAAAAx1cmwgAAAAAQAAB01zdGJsAAAAuXN0c2QAAAAAAAAAAQAAAKlh\n",
              "dmMxAAAAAAAAAAEAAAAAAAAAAAAAAAAAAAAAAfQB9ABIAAAASAAAAAAAAAABAAAAAAAAAAAAAAAA\n",
              "AAAAAAAAAAAAAAAAAAAAAAAAAAAAGP//AAAAN2F2Y0MBZAAe/+EAGmdkAB6s2UCAEHnnhAAAAwAE\n",
              "AAADAKA8WLZYAQAGaOvjyyLA/fj4AAAAABx1dWlka2hA8l8kT8W6OaUbzwMj8wAAAAAAAAAYc3R0\n",
              "cwAAAAAAAAABAAAAmwAAAgAAAAAUc3RzcwAAAAAAAAABAAAAAQAAA7BjdHRzAAAAAAAAAHQAAAAB\n",
              "AAAEAAAAAAEAAAgAAAAAAgAAAgAAAAABAAAKAAAAAAEAAAQAAAAAAQAAAAAAAAABAAACAAAAAAEA\n",
              "AAoAAAAAAQAABAAAAAABAAAAAAAAAAEAAAIAAAAAAQAABgAAAAABAAACAAAAAAEAAAYAAAAAAQAA\n",
              "AgAAAAABAAAEAAAAAAEAAAgAAAAAAgAAAgAAAAABAAAGAAAAAAEAAAIAAAAAAQAABAAAAAABAAAG\n",
              "AAAAAAEAAAIAAAAABQAABAAAAAABAAAKAAAAAAEAAAQAAAAAAQAAAAAAAAABAAACAAAAAAMAAAQA\n",
              "AAAAAQAACgAAAAABAAAEAAAAAAEAAAAAAAAAAQAAAgAAAAABAAAKAAAAAAEAAAQAAAAAAQAAAAAA\n",
              "AAABAAACAAAAAAEAAAgAAAAAAgAAAgAAAAABAAAIAAAAAAIAAAIAAAAAAwAABAAAAAABAAAKAAAA\n",
              "AAEAAAQAAAAAAQAAAAAAAAABAAACAAAAAAEAAAgAAAAAAgAAAgAAAAABAAAGAAAAAAEAAAIAAAAA\n",
              "AQAABgAAAAABAAACAAAAAAEAAAQAAAAAAQAACgAAAAABAAAEAAAAAAEAAAAAAAAAAQAAAgAAAAAD\n",
              "AAAEAAAAAAEAAAYAAAAAAQAAAgAAAAABAAAEAAAAAAEAAAYAAAAAAQAAAgAAAAABAAAIAAAAAAIA\n",
              "AAIAAAAAAwAABAAAAAABAAAGAAAAAAEAAAIAAAAAAQAABgAAAAABAAACAAAAAAMAAAQAAAAAAQAA\n",
              "CAAAAAACAAACAAAAAAEAAAQAAAAAAQAACgAAAAABAAAEAAAAAAEAAAAAAAAAAQAAAgAAAAABAAAK\n",
              "AAAAAAEAAAQAAAAAAQAAAAAAAAABAAACAAAAAAEAAAgAAAAAAgAAAgAAAAABAAAIAAAAAAIAAAIA\n",
              "AAAAAQAABAAAAAABAAAGAAAAAAEAAAIAAAAABAAABAAAAAABAAAGAAAAAAEAAAIAAAAABAAABAAA\n",
              "AAABAAAIAAAAAAIAAAIAAAAAAwAABAAAAAABAAAIAAAAAAIAAAIAAAAABAAABAAAAAABAAAGAAAA\n",
              "AAEAAAIAAAAAAQAABAAAAAABAAAGAAAAAAEAAAIAAAAAAQAACgAAAAABAAAEAAAAAAEAAAAAAAAA\n",
              "AQAAAgAAAAABAAAGAAAAAAEAAAIAAAAAAQAABgAAAAABAAACAAAAAAQAAAQAAAAAAQAABgAAAAAB\n",
              "AAACAAAAAAEAAAQAAAAAHHN0c2MAAAAAAAAAAQAAAAEAAACbAAAAAQAAAoBzdHN6AAAAAAAAAAAA\n",
              "AACbAAAIagAAAYAAAAAtAAAAJgAAAi4AAAArAAAAJQAAABoAAAHVAAAAKwAAABwAAAAoAAAAOwAA\n",
              "ACUAAAA8AAAAIwAAAZEAAAF9AAAAMwAAACIAAAGZAAAANAAAAacAAABKAAAAKwAAAD8AAAA+AAAA\n",
              "OgAAADoAAAGNAAABiQAAAEoAAAAmAAAAJwAAAZMAAABDAAAARQAAAhMAAAAyAAAAKAAAACEAAABt\n",
              "AAAALgAAAB0AAAAhAAAAOQAAAC0AAAAlAAAAOwAAACgAAAAVAAABhwAAADcAAAGgAAAB7gAAACgA\n",
              "AAAhAAAAGAAAAEoAAAAnAAAAIgAAADcAAAAlAAABjwAAADAAAAGHAAABlwAAAEMAAAAoAAAAIwAA\n",
              "AZEAAABEAAABgAAAAacAAAAqAAAARAAAAZIAAAAxAAABjwAAADEAAAAdAAABjAAAADsAAAGAAAAA\n",
              "NwAAACUAAAA7AAAAJwAAADIAAAGTAAAANQAAAYMAAAAxAAAAHgAAAXoAAAJ+AAAAMgAAACYAAAAb\n",
              "AAAAGwAAACIAAAAdAAAAGwAAAXwAAAAsAAAAJwAAAYgAAAA0AAAAIgAAAY4AAAGDAAAAMQAAADsA\n",
              "AAA7AAAAMgAAAYYAAAA2AAAAJAAAAYwAAAF9AAABhgAAAEwAAAA6AAAALAAAABcAAAA9AAAAOwAA\n",
              "AX4AAAGiAAAAPwAAACIAAAA/AAAAQAAAAZcAAAGLAAAAPwAAACYAAAA+AAABhQAAAC4AAAHOAAAA\n",
              "OgAAACYAAAAeAAABrQAAAC8AAABGAAAAKAAAAEEAAAGiAAABnwAAAEUAAAGPAAAAOgAAAWkAAAAU\n",
              "c3RjbwAAAAAAAAABAAAAMAAAAGJ1ZHRhAAAAWm1ldGEAAAAAAAAAIWhkbHIAAAAAAAAAAG1kaXJh\n",
              "cHBsAAAAAAAAAAAAAAAALWlsc3QAAAAlqXRvbwAAAB1kYXRhAAAAAQAAAABMYXZmNTguNzYuMTAw\n",
              "\">\n",
              "  Your browser does not support the video tag.\n",
              "</video>"
            ]
          },
          "metadata": {},
          "execution_count": 20
        }
      ]
    },
    {
      "cell_type": "code",
      "source": [],
      "metadata": {
        "id": "-6st6IXc_dva"
      },
      "execution_count": 20,
      "outputs": []
    }
  ]
}